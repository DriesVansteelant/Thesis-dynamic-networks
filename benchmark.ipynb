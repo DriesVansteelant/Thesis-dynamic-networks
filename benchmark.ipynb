{
 "cells": [
  {
   "cell_type": "markdown",
   "metadata": {},
   "source": [
    "# Benchmark Dynamic network libraries\n",
    "\n",
    "tests on dynetx and tg lib"
   ]
  },
  {
   "cell_type": "markdown",
   "metadata": {},
   "source": [
    "## TGLIB\n"
   ]
  },
  {
   "cell_type": "code",
   "execution_count": 1,
   "metadata": {},
   "outputs": [],
   "source": [
    "import pytglib as tgl  # tglib\n",
    "import scipy.stats as ss  # for Kendall's tau correlation\n",
    "from tqdm import tqdm\n",
    "import time\n",
    "import numpy as np\n",
    "import random\n",
    "# from benchmark_tglib import testname as btgl\n",
    "\n",
    "statsPath = \"./stats_TGLib.txt\"\n",
    "\n",
    "statsFile = open(statsPath, 'w')\n",
    "statsFile.write('')\n",
    "statsFile.close()\n",
    "\n",
    "statsFile = open(statsPath, 'a')\n",
    "\n",
    "statsFile.close()\n",
    "\n",
    "size_big = 10\n",
    "size_smol = 10\n",
    "\n",
    "wiki_path = \"../Code/Data/tgbl-wiki_edgelist_final.txt\"\n",
    "review_path = \"../Code/Data/tgbl-review_edgelist_final.txt\"\n",
    "wiki_path_h = \"../Code/Data/tgbl-wiki_edgelist_final_h.txt\"\n",
    "review_path_h = \"../Code/Data/tgbl-review_edgelist_final_h.txt\"\n",
    "\n",
    "load_time_results = {}\n",
    "load_time_results['tglib'] = {}\n",
    "load_time_results['dynetx'] = {}\n",
    "load_time_results['raphtory'] = {}\n",
    "\n",
    "stats_time_results = {}\n",
    "stats_time_results['tglib'] = {}\n",
    "stats_time_results['dynetx'] = {}\n",
    "stats_time_results['raphtory'] = {}\n",
    "\n",
    "path_time_results = {}\n",
    "path_time_results['tglib'] = {}\n",
    "path_time_results['dynetx'] = {}\n",
    "path_time_results['raphtory'] = {}\n",
    "\n",
    "cc_time = {}\n",
    "cc_time['tglib'] = {}\n",
    "cc_time['dynetx'] = {}\n",
    "cc_time['raphtory'] = {}\n",
    "\n",
    "pr_time = {}\n",
    "pr_time['tglib'] = {}\n",
    "pr_time['dynetx'] = {}\n",
    "pr_time['raphtory'] = {}\n",
    "\n",
    "# stats_time_results"
   ]
  },
  {
   "cell_type": "code",
   "execution_count": 2,
   "metadata": {},
   "outputs": [
    {
     "name": "stdout",
     "output_type": "stream",
     "text": [
      "Time taken to read graph 1.0278408527374268 seconds\n",
      "Time taken to get stats 0.07240557670593262 seconds \n",
      "\n",
      "number of nodes: 8227\n",
      "number of edges: 157474\n",
      "number of static edges: 18257\n",
      "number of time stamps: 152757\n",
      "number of transition times: 1\n",
      "min. time stamp: 0\n",
      "max. time stamp: 2678373\n",
      "min. transition time: 1\n",
      "max. transition time: 1\n",
      "min. temporal in-degree: 0\n",
      "max. temporal in-degree: 1937\n",
      "min. temporal out-degree: 1\n",
      "max. temporal out-degree: 1603\n"
     ]
    },
    {
     "name": "stderr",
     "output_type": "stream",
     "text": [
      "100%|██████████| 12/12 [00:00<00:00, 94.20it/s]"
     ]
    },
    {
     "name": "stdout",
     "output_type": "stream",
     "text": [
      "Time taken to get shortest paths 0.16917657852172852 seconds\n",
      "Time to get clustering coefficient: 0.01569366455078125\n",
      "Time to get Pagerank: 0.0011990070343017578\n",
      "{'loadTime': 1.0278408527374268, 'stats': 0.07240557670593262, 'paths': 0.16917657852172852, 'clusteringCoefficient': 0.01569366455078125, 'pagerank': 0.0011990070343017578}\n"
     ]
    },
    {
     "name": "stderr",
     "output_type": "stream",
     "text": [
      "\n"
     ]
    }
   ],
   "source": [
    "from benchmark_tglib import testname\n",
    "\n",
    "res = testname.do_benchmark(wiki_path, size_smol)\n",
    "print(res)\n",
    "\n",
    "\n",
    "load_time_results ['tglib']['wiki'] = 0 if not \"loadTime\" in res.keys() else  res[\"loadTime\"]\n",
    "stats_time_results ['tglib']['wiki'] = 0 if not \"stats\" in res.keys() else  res[\"stats\"]\n",
    "path_time_results ['tglib']['wiki'] = 0 if not \"paths\" in res.keys() else  res[\"paths\"]\n",
    "cc_time['tglib']['wiki'] = 0  if not \"clusteringCoefficient\" in res.keys() else  res[\"clusteringCoefficient\"]\n",
    "pr_time['tglib']['wiki'] = 0  if not \"pagerank\" in res.keys() else  res[\"pagerank\"]"
   ]
  },
  {
   "cell_type": "code",
   "execution_count": 3,
   "metadata": {},
   "outputs": [],
   "source": [
    "# inPath = './datasets/tgbl-wiki_edgelist_final_with_intervals.txt'\n"
   ]
  },
  {
   "cell_type": "code",
   "execution_count": 4,
   "metadata": {},
   "outputs": [
    {
     "name": "stdout",
     "output_type": "stream",
     "text": [
      "Time taken to read graph 6.698036193847656 seconds\n",
      "Time taken to get stats 3.5273849964141846 seconds \n",
      "\n",
      "number of nodes: 352637\n",
      "number of edges: 4873540\n",
      "number of static edges: 4730223\n",
      "number of time stamps: 6865\n",
      "number of transition times: 1\n",
      "min. time stamp: 0\n",
      "max. time stamp: 609379200\n",
      "min. transition time: 1\n",
      "max. transition time: 1\n",
      "min. temporal in-degree: 0\n",
      "max. temporal in-degree: 6129\n",
      "min. temporal out-degree: 0\n",
      "max. temporal out-degree: 627\n",
      "Time to get clustering coefficient: 9.290621995925903\n",
      "Time to get Pagerank: 0.1017599105834961\n"
     ]
    }
   ],
   "source": [
    "inPath = './datasets/tgbl-review_edgelist_final.txt'\n",
    "\n",
    "res = testname.do_benchmark(review_path, size_smol, do_paths=False)\n",
    "# print(res)\n",
    "\n",
    "load_time_results ['tglib']['review'] = 0  if not \"loadTime\" in res.keys() else  res[\"loadTime\"]\n",
    "stats_time_results ['tglib']['review'] = 0  if not \"stats\" in res.keys() else  res[\"stats\"]\n",
    "path_time_results ['tglib']['review'] = 0  if not \"paths\" in res.keys() else  res[\"paths\"]\n",
    "cc_time['tglib']['review'] = 0  if not \"clusteringCoefficient\" in res.keys() else  res[\"clusteringCoefficient\"]\n",
    "pr_time['tglib']['review'] = 0  if not \"pagerank\" in res.keys() else  res[\"pagerank\"]"
   ]
  },
  {
   "cell_type": "code",
   "execution_count": 5,
   "metadata": {},
   "outputs": [],
   "source": [
    "# inPath = './datasets/tgbl-review_edgelist_final_with_intervals.txt'\n"
   ]
  },
  {
   "cell_type": "markdown",
   "metadata": {},
   "source": [
    "## DynetX"
   ]
  },
  {
   "cell_type": "code",
   "execution_count": 6,
   "metadata": {},
   "outputs": [],
   "source": [
    "from tqdm import tqdm\n",
    "import numpy as np\n",
    "\n",
    "import dynetx.dynetx as dn\n",
    "import dynetx.dynetx.algorithms as al\n",
    "import time\n",
    "import functools \n",
    "from  benchmark_DyNetX import BenchmarkDyNetX as bdyn\n",
    "\n",
    "statsPath = \"./stats_DyNetX.txt\"\n",
    "\n",
    "statsFile = open(statsPath, 'w')\n",
    "statsFile.write('')\n",
    "statsFile.close()\n",
    "\n",
    "statsFile = open(statsPath, 'a')\n",
    "\n",
    "statsFile.close()\n",
    "\n"
   ]
  },
  {
   "cell_type": "code",
   "execution_count": 7,
   "metadata": {},
   "outputs": [
    {
     "name": "stdout",
     "output_type": "stream",
     "text": [
      "Time taken to read graph 1.4423491954803467 seconds\n",
      "Time taken to get stats 0.03358745574951172 seconds\n",
      "===========stats===========\n",
      "num_Nodes:  8227\n",
      "num_edges:  18257\n",
      "number of interactions:  2633\n",
      "number of timestamps:  152757\n",
      "min. timestamps:  0\n",
      "max. timestamps:  2678373\n",
      "min in degree:  0\n",
      "max in degree:  256\n",
      "min out degree:  1\n",
      "max out degree:  454\n",
      "===========================\n"
     ]
    },
    {
     "name": "stderr",
     "output_type": "stream",
     "text": [
      "100%|██████████| 12/12 [01:30<00:00,  7.56s/it]"
     ]
    },
    {
     "name": "stdout",
     "output_type": "stream",
     "text": [
      "Time taken to get and annotate 820 paths 90.77229404449463 seconds or 0:1:30.77229404449463\n"
     ]
    },
    {
     "name": "stderr",
     "output_type": "stream",
     "text": [
      "\n"
     ]
    }
   ],
   "source": [
    "res = bdyn.do_benchmark(wiki_path, size_big)\n",
    "load_time_results ['dynetx']['wiki'] = 0 if not \"loadTime\" in res.keys() else  res[\"loadTime\"]\n",
    "stats_time_results ['dynetx']['wiki'] = 0 if not \"stats\" in res.keys() else  res[\"stats\"]\n",
    "path_time_results ['dynetx']['wiki'] = 0 if not \"paths\" in res.keys() else  res[\"paths\"]\n",
    "cc_time['dynetx']['wiki'] = 0  if not \"clusteringCoefficient\" in res.keys() else  res[\"clusteringCoefficient\"]\n",
    "pr_time['dynetx']['wiki'] = 0  if not \"pagerank\" in res.keys() else  res[\"pagerank\"]"
   ]
  },
  {
   "cell_type": "code",
   "execution_count": 8,
   "metadata": {},
   "outputs": [],
   "source": [
    "# inPath = './datasets/tgbl-wiki_edgelist_final_with_intervals.txt'\n",
    "# bdyn.do_benchmark(inPath, size_smol)"
   ]
  },
  {
   "cell_type": "code",
   "execution_count": 9,
   "metadata": {},
   "outputs": [
    {
     "name": "stdout",
     "output_type": "stream",
     "text": [
      "Time taken to read graph 53.94248843193054 seconds\n",
      "Time taken to get stats 3.644585371017456 seconds\n",
      "===========stats===========\n",
      "num_Nodes:  352637\n",
      "num_edges:  4730223\n",
      "number of interactions:  1804961\n",
      "number of timestamps:  6865\n",
      "min. timestamps:  0\n",
      "max. timestamps:  609379200\n",
      "min in degree:  0\n",
      "max in degree:  6082\n",
      "min out degree:  0\n",
      "max out degree:  592\n",
      "===========================\n"
     ]
    },
    {
     "name": "stderr",
     "output_type": "stream",
     "text": [
      "100%|██████████| 12/12 [00:32<00:00,  2.72s/it]"
     ]
    },
    {
     "name": "stdout",
     "output_type": "stream",
     "text": [
      "Time taken to get and annotate 35260 paths 32.80169224739075 seconds or 0:0:32.80169224739075\n"
     ]
    },
    {
     "name": "stderr",
     "output_type": "stream",
     "text": [
      "\n"
     ]
    }
   ],
   "source": [
    "res = bdyn.do_benchmark(review_path, size_big)\n",
    "load_time_results ['dynetx']['review'] = 0 if not \"loadTime\" in res.keys() else  res[\"loadTime\"]\n",
    "stats_time_results ['dynetx']['review'] = 0 if not \"stats\" in res.keys() else  res[\"stats\"]\n",
    "path_time_results ['dynetx']['review'] = 0 if not \"paths\" in res.keys() else  res[\"paths\"]\n",
    "cc_time['dynetx']['review'] = 0  if not \"clusteringCoefficient\" in res.keys() else  res[\"clusteringCoefficient\"]\n",
    "pr_time['dynetx']['review'] = 0  if not \"pagerank\" in res.keys() else  res[\"pagerank\"]"
   ]
  },
  {
   "cell_type": "code",
   "execution_count": 10,
   "metadata": {},
   "outputs": [],
   "source": [
    "# inPath = './datasets/tgbl-review_edgelist_final_with_intervals.txt'\n",
    "# bdyn.do_benchmark(inPath, size_smol)"
   ]
  },
  {
   "cell_type": "markdown",
   "metadata": {},
   "source": [
    "## Raphtory\n"
   ]
  },
  {
   "cell_type": "code",
   "execution_count": 11,
   "metadata": {},
   "outputs": [],
   "source": [
    "from benchmark_raphtory import BenchmarkRaphtory  as br"
   ]
  },
  {
   "cell_type": "code",
   "execution_count": 12,
   "metadata": {},
   "outputs": [
    {
     "name": "stdout",
     "output_type": "stream",
     "text": [
      "Time to read pandas from file: 0.46\n"
     ]
    },
    {
     "data": {
      "application/vnd.jupyter.widget-view+json": {
       "model_id": "76160ceb9064486db46bfb27cf00d0d4",
       "version_major": 2,
       "version_minor": 0
      },
      "text/plain": [
       "HBox(children=(HTML(value=''), IntProgress(value=0, max=157474), HTML(value='')))"
      ]
     },
     "metadata": {},
     "output_type": "display_data"
    },
    {
     "name": "stdout",
     "output_type": "stream",
     "text": [
      "Time to load graph from pandas: 0.61\n",
      "num_nodes: 8227\n",
      "num_edges: 18257\n",
      "min_in_deg: 0\n",
      "max_in_deg: 256\n",
      "min_out_deg: 1\n",
      "max_out_deg: 454\n",
      "min_ts: 0\n",
      "max_ts: 2678374\n",
      "Time to get stats: 0.05170583724975586\n",
      "Time to get clustering coefficient: 0.16026592254638672\n",
      "Time to get Pagerank: 0.07675576210021973\n"
     ]
    }
   ],
   "source": [
    "res = br.do_benchmark(wiki_path_h)\n",
    "load_time_results ['raphtory']['wiki'] = 0 if not \"loadTime\" in res.keys() else res[\"loadTime\"]\n",
    "stats_time_results ['raphtory']['wiki'] = 0 if not \"stats\" in res.keys() else res[\"stats\"]\n",
    "path_time_results ['raphtory']['wiki'] = 0 if not \"paths\" in res.keys() else res[\"paths\"]\n",
    "cc_time['raphtory']['wiki'] = 0  if not \"clusteringCoefficient\" in res.keys() else  res[\"clusteringCoefficient\"]\n",
    "pr_time['raphtory']['wiki'] = 0  if not \"pagerank\" in res.keys() else  res[\"pagerank\"]"
   ]
  },
  {
   "cell_type": "code",
   "execution_count": null,
   "metadata": {},
   "outputs": [],
   "source": []
  },
  {
   "cell_type": "code",
   "execution_count": 13,
   "metadata": {},
   "outputs": [
    {
     "name": "stdout",
     "output_type": "stream",
     "text": [
      "Time to read pandas from file: 2.48\n"
     ]
    },
    {
     "data": {
      "application/vnd.jupyter.widget-view+json": {
       "model_id": "5759e8d66ae64574a8d7f5b5ec2be92b",
       "version_major": 2,
       "version_minor": 0
      },
      "text/plain": [
       "HBox(children=(HTML(value=''), IntProgress(value=0, max=4873540), HTML(value='')))"
      ]
     },
     "metadata": {},
     "output_type": "display_data"
    },
    {
     "name": "stdout",
     "output_type": "stream",
     "text": [
      "Time to load graph from pandas: 11.05\n",
      "num_nodes: 352637\n",
      "num_edges: 4730223\n",
      "min_in_deg: 0\n",
      "max_in_deg: 6082\n",
      "min_out_deg: 0\n",
      "max_out_deg: 592\n",
      "min_ts: 0\n",
      "max_ts: 609379201\n",
      "Time to get stats: 0.2816779613494873\n",
      "Time to get clustering coefficient: 4.419715642929077\n",
      "Time to get Pagerank: 0.30412721633911133\n"
     ]
    }
   ],
   "source": [
    "res = br.do_benchmark(review_path_h)\n",
    "load_time_results ['raphtory']['review'] = 0 if not \"loadTime\" in res.keys() else  res[\"loadTime\"]\n",
    "stats_time_results ['raphtory']['review'] = 0 if not \"stats\" in res.keys() else  res[\"stats\"]\n",
    "path_time_results ['raphtory']['review'] = 0 if not \"paths\" in res.keys() else  res[\"paths\"]\n",
    "cc_time['raphtory']['review'] = 0  if not \"clusteringCoefficient\" in res.keys() else  res[\"clusteringCoefficient\"]\n",
    "pr_time['raphtory']['review'] = 0  if not \"pagerank\" in res.keys() else  res[\"pagerank\"]"
   ]
  },
  {
   "cell_type": "code",
   "execution_count": 14,
   "metadata": {},
   "outputs": [
    {
     "name": "stdout",
     "output_type": "stream",
     "text": [
      "'load time: '\n",
      "{'dynetx': {'review': 53.94248843193054, 'wiki': 1.4423491954803467},\n",
      " 'raphtory': {'review': 13.52903938293457, 'wiki': 1.0740411281585693},\n",
      " 'tglib': {'review': 6.698036193847656, 'wiki': 1.0278408527374268}}\n",
      "'stats: '\n",
      "{'dynetx': {'review': 3.644585371017456, 'wiki': 0.03358745574951172},\n",
      " 'raphtory': {'review': 0.2816779613494873, 'wiki': 0.05170583724975586},\n",
      " 'tglib': {'review': 3.5273849964141846, 'wiki': 0.07240557670593262}}\n",
      "'paths: '\n",
      "{'dynetx': {'review': 32.80169224739075, 'wiki': 90.77229404449463},\n",
      " 'raphtory': {'review': 0, 'wiki': 0},\n",
      " 'tglib': {'review': 0, 'wiki': 0.16917657852172852}}\n",
      "'cc: '\n",
      "{'dynetx': {'review': 0, 'wiki': 0},\n",
      " 'raphtory': {'review': 4.419715642929077, 'wiki': 0.16026592254638672},\n",
      " 'tglib': {'review': 9.290621995925903, 'wiki': 0.01569366455078125}}\n",
      "'pr: '\n",
      "{'dynetx': {'review': 0, 'wiki': 0},\n",
      " 'raphtory': {'review': 0.30412721633911133, 'wiki': 0.07675576210021973},\n",
      " 'tglib': {'review': 0.1017599105834961, 'wiki': 0.0011990070343017578}}\n"
     ]
    }
   ],
   "source": [
    "import pprint\n",
    "\n",
    "# Prints the nicely formatted dictionary\n",
    "pprint.pprint(\"load time: \")\n",
    "pprint.pprint( load_time_results)\n",
    "pprint.pprint(\"stats: \" )\n",
    "pprint.pprint(stats_time_results)\n",
    "pprint.pprint(\"paths: \")\n",
    "pprint.pprint( path_time_results)\n",
    "pprint.pprint(\"cc: \")\n",
    "pprint.pprint( cc_time)\n",
    "pprint.pprint(\"pr: \")\n",
    "pprint.pprint( pr_time)\n"
   ]
  },
  {
   "cell_type": "code",
   "execution_count": 15,
   "metadata": {},
   "outputs": [],
   "source": [
    "# results \n",
    "from math import sqrt\n",
    "import matplotlib.pylab as plt\n",
    "import numpy as np\n",
    "\n",
    "data_sets = ['tgbl-wiki',  'tgbl-review']\n"
   ]
  },
  {
   "cell_type": "code",
   "execution_count": 16,
   "metadata": {},
   "outputs": [
    {
     "name": "stdout",
     "output_type": "stream",
     "text": [
      "{'dynetx': {'review': 53.94248843193054, 'wiki': 1.4423491954803467},\n",
      " 'raphtory': {'review': 13.52903938293457, 'wiki': 1.0740411281585693},\n",
      " 'tglib': {'review': 6.698036193847656, 'wiki': 1.0278408527374268}}\n"
     ]
    },
    {
     "name": "stderr",
     "output_type": "stream",
     "text": [
      "The PostScript backend does not support transparency; partially transparent artists will be rendered opaque.\n"
     ]
    },
    {
     "data": {
      "image/png": "[encoded data removed]",
      "text/plain": [
       "<Figure size 600x400 with 1 Axes>"
      ]
     },
     "metadata": {},
     "output_type": "display_data"
    }
   ],
   "source": [
    "\n",
    "pprint.pprint(load_time_results)\n",
    "memory_results = load_time_results\n",
    "structs = ['raphtory', 'dynetx', 'tglib']\n",
    "datasets = data_sets\n",
    "\n",
    "fig, ax = plt.subplots()\n",
    "width = 0.15\n",
    "offset = {'raphtory': -width, 'dynetx': 0, 'tglib': width} # {'interval': 2 * width, 'snapshot': 1 * width, 'adjtree': 0 * width, 'tvg': -1 * width,'networkx': -2 * width}\n",
    "color = {'raphtory': (0.65, 0.3, 0.3), 'dynetx': (0, 0.75, 0), 'tglib': (0.8, 0.8, 0.8)}  # {'interval': (0.65, 0.3, 0.3), 'snapshot': (0, 0.75, 0), 'networkx': (0.8, 0.8, 0.8), 'adjtree': (0, 0, .75), 'tvg': (1, 1, 0)}\n",
    "labels = {'raphtory': 'Raphtory', 'dynetx': 'DyNetX', 'tglib':'TGLib'} # {'interval': 'IntervalGraph', 'snapshot': 'SnapshotGraph', 'networkx': 'NetworkX', 'adjtree': 'AdjTree', 'tvg': 'TVG'}\n",
    "label_location = np.arange(len(datasets))\n",
    "\n",
    "for struct in structs:\n",
    "    nums = [memory_results[struct][d] for d in memory_results[struct]]\n",
    "    ax.bar(label_location + offset[struct], nums, width, label=labels[struct], color=color[struct])\n",
    "\n",
    "ax.set_title('Load Time')\n",
    "ax.set_xticks(label_location)\n",
    "ax.set_xticklabels(datasets)\n",
    "ax.set_yscale('log')\n",
    "ax.set_ylabel('Time (s)')\n",
    "fig.tight_layout()\n",
    "fig.set_figheight(4)\n",
    "fig.set_figwidth(6)\n",
    "plt.tight_layout(pad=0.2)\n",
    "plt.legend()\n",
    "fig.savefig('load time.eps', format='eps')\n",
    "plt.show()"
   ]
  },
  {
   "cell_type": "code",
   "execution_count": 17,
   "metadata": {},
   "outputs": [
    {
     "name": "stderr",
     "output_type": "stream",
     "text": [
      "The PostScript backend does not support transparency; partially transparent artists will be rendered opaque.\n"
     ]
    },
    {
     "data": {
      "image/png": "[encoded data removed]",
      "text/plain": [
       "<Figure size 600x400 with 1 Axes>"
      ]
     },
     "metadata": {},
     "output_type": "display_data"
    }
   ],
   "source": [
    "\n",
    "memory_results = stats_time_results\n",
    "structs = ['raphtory', 'dynetx', 'tglib']\n",
    "datasets = data_sets\n",
    "\n",
    "fig, ax = plt.subplots()\n",
    "width = 0.15\n",
    "offset = {'raphtory': -width, 'dynetx': 0, 'tglib': width} # {'interval': 2 * width, 'snapshot': 1 * width, 'adjtree': 0 * width, 'tvg': -1 * width,'networkx': -2 * width}\n",
    "color = {'raphtory': (0.65, 0.3, 0.3), 'dynetx': (0, 0.75, 0), 'tglib': (0.8, 0.8, 0.8)}  # {'interval': (0.65, 0.3, 0.3), 'snapshot': (0, 0.75, 0), 'networkx': (0.8, 0.8, 0.8), 'adjtree': (0, 0, .75), 'tvg': (1, 1, 0)}\n",
    "labels = {'raphtory': 'Raphtory', 'dynetx': 'DyNetX', 'tglib':'TGLib'} # {'interval': 'IntervalGraph', 'snapshot': 'SnapshotGraph', 'networkx': 'NetworkX', 'adjtree': 'AdjTree', 'tvg': 'TVG'}\n",
    "label_location = np.arange(len(datasets))\n",
    "\n",
    "for struct in structs:\n",
    "    nums = [memory_results[struct][d] for d in memory_results[struct]]\n",
    "    ax.bar(label_location + offset[struct], nums, width, label=labels[struct], color=color[struct])\n",
    "\n",
    "ax.set_title('Get Statistcs')\n",
    "ax.set_xticks(label_location)\n",
    "ax.set_xticklabels(datasets)\n",
    "ax.set_yscale('log')\n",
    "ax.set_ylabel('Time (s)')\n",
    "fig.tight_layout()\n",
    "fig.set_figheight(4)\n",
    "fig.set_figwidth(6)\n",
    "plt.tight_layout(pad=0.2)\n",
    "plt.legend()\n",
    "fig.savefig('stats time.eps', format='eps')\n",
    "plt.show()"
   ]
  },
  {
   "cell_type": "code",
   "execution_count": 1,
   "metadata": {},
   "outputs": [
    {
     "ename": "NameError",
     "evalue": "name 'path_time_results' is not defined",
     "output_type": "error",
     "traceback": [
      "\u001b[1;31m---------------------------------------------------------------------------\u001b[0m",
      "\u001b[1;31mNameError\u001b[0m                                 Traceback (most recent call last)",
      "\u001b[1;32mc:\\Users\\dries\\Documents\\school\\Thesis\\Thesis-dynamic-networks\\benchmark.ipynb Cell 23\u001b[0m line \u001b[0;36m1\n\u001b[1;32m----> <a href='vscode-notebook-cell:/c%3A/Users/dries/Documents/school/Thesis/Thesis-dynamic-networks/benchmark.ipynb#X31sZmlsZQ%3D%3D?line=0'>1</a>\u001b[0m memory_results \u001b[39m=\u001b[39m path_time_results\n\u001b[0;32m      <a href='vscode-notebook-cell:/c%3A/Users/dries/Documents/school/Thesis/Thesis-dynamic-networks/benchmark.ipynb#X31sZmlsZQ%3D%3D?line=1'>2</a>\u001b[0m structs \u001b[39m=\u001b[39m [\u001b[39m'\u001b[39m\u001b[39mtglib\u001b[39m\u001b[39m'\u001b[39m, \u001b[39m'\u001b[39m\u001b[39mdynetx\u001b[39m\u001b[39m'\u001b[39m]\n\u001b[0;32m      <a href='vscode-notebook-cell:/c%3A/Users/dries/Documents/school/Thesis/Thesis-dynamic-networks/benchmark.ipynb#X31sZmlsZQ%3D%3D?line=2'>3</a>\u001b[0m datasets \u001b[39m=\u001b[39m [\u001b[39m\"\u001b[39m\u001b[39mtgbl-wiki\u001b[39m\u001b[39m\"\u001b[39m, \u001b[39m\"\u001b[39m\u001b[39mtgbl-review\u001b[39m\u001b[39m\"\u001b[39m] \u001b[39m#data_sets\u001b[39;00m\n",
      "\u001b[1;31mNameError\u001b[0m: name 'path_time_results' is not defined"
     ]
    }
   ],
   "source": [
    "memory_results = path_time_results\n",
    "structs = ['tglib', 'dynetx']\n",
    "datasets = [\"tgbl-wiki\", \"tgbl-review\"] #data_sets\n",
    "\n",
    "fig, ax = plt.subplots()\n",
    "width = 0.15\n",
    "offset = {'tglib': -0.5 * width, 'dynetx': 0.5* width} # {'interval': 2 * width, 'snapshot': 1 * width, 'adjtree': 0 * width, 'tvg': -1 * width,'networkx': -2 * width}\n",
    "color = {'tglib': (0.65, 0.3, 0.3), 'dynetx': (0, 0.75, 0)}  # {'interval': (0.65, 0.3, 0.3), 'snapshot': (0, 0.75, 0), 'networkx': (0.8, 0.8, 0.8), 'adjtree': (0, 0, .75), 'tvg': (1, 1, 0)}\n",
    "labels = {'raphtory': 'Raphtory', 'dynetx': 'DyNetX', 'tglib':'TGLib'} # {'interval': 'IntervalGraph', 'snapshot': 'SnapshotGraph', 'networkx': 'NetworkX', 'adjtree': 'AdjTree', 'tvg': 'TVG'}\n",
    "label_location = np.arange(len(datasets))\n",
    "\n",
    "for struct in structs:\n",
    "    nums = [memory_results[struct][d] for d in memory_results[struct]]\n",
    "    ax.bar(label_location + offset[struct], nums, width, label=labels[struct], color=color[struct])\n",
    "\n",
    "ax.set_title('Shortest Paths')\n",
    "ax.set_xticks(label_location)\n",
    "ax.set_xticklabels(datasets)\n",
    "ax.set_yscale('log')\n",
    "ax.set_ylabel('Time (s)')\n",
    "fig.tight_layout()\n",
    "fig.set_figheight(4)\n",
    "fig.set_figwidth(6)\n",
    "plt.tight_layout(pad=0.2)\n",
    "plt.legend()\n",
    "fig.savefig('load time.eps', format='eps')\n",
    "plt.show()"
   ]
  },
  {
   "cell_type": "code",
   "execution_count": 19,
   "metadata": {},
   "outputs": [
    {
     "name": "stderr",
     "output_type": "stream",
     "text": [
      "The PostScript backend does not support transparency; partially transparent artists will be rendered opaque.\n"
     ]
    },
    {
     "data": {
      "image/png": "[encoded data removed]",
      "text/plain": [
       "<Figure size 600x400 with 1 Axes>"
      ]
     },
     "metadata": {},
     "output_type": "display_data"
    }
   ],
   "source": [
    "\n",
    "memory_results = cc_time\n",
    "structs = ['raphtory', 'tglib']\n",
    "datasets = data_sets\n",
    "\n",
    "fig, ax = plt.subplots()\n",
    "width = 0.15\n",
    "offset = {'raphtory': -0.5*width, 'tglib': 0.5*width} # {'interval': 2 * width, 'snapshot': 1 * width, 'adjtree': 0 * width, 'tvg': -1 * width,'networkx': -2 * width}\n",
    "color = {'raphtory': (0.65, 0.3, 0.3), 'dynetx': (0, 0.75, 0), 'tglib': (0.8, 0.8, 0.8)}  # {'interval': (0.65, 0.3, 0.3), 'snapshot': (0, 0.75, 0), 'networkx': (0.8, 0.8, 0.8), 'adjtree': (0, 0, .75), 'tvg': (1, 1, 0)}\n",
    "labels = {'raphtory': 'Raphtory', 'dynetx': 'DyNetX', 'tglib':'TGLib'} # {'interval': 'IntervalGraph', 'snapshot': 'SnapshotGraph', 'networkx': 'NetworkX', 'adjtree': 'AdjTree', 'tvg': 'TVG'}\n",
    "label_location = np.arange(len(datasets))\n",
    "\n",
    "for struct in structs:\n",
    "    nums = [memory_results[struct][d] for d in memory_results[struct]]\n",
    "    ax.bar(label_location + offset[struct], nums, width, label=labels[struct], color=color[struct])\n",
    "\n",
    "ax.set_title('Clustering Coefficient')\n",
    "ax.set_xticks(label_location)\n",
    "ax.set_xticklabels(datasets)\n",
    "ax.set_yscale('log')\n",
    "ax.set_ylabel('Time (s)')\n",
    "fig.tight_layout()\n",
    "fig.set_figheight(4)\n",
    "fig.set_figwidth(6)\n",
    "plt.tight_layout(pad=0.2)\n",
    "plt.legend()\n",
    "fig.savefig('stats time.eps', format='eps')\n",
    "plt.show()"
   ]
  },
  {
   "cell_type": "code",
   "execution_count": 20,
   "metadata": {},
   "outputs": [
    {
     "name": "stderr",
     "output_type": "stream",
     "text": [
      "The PostScript backend does not support transparency; partially transparent artists will be rendered opaque.\n"
     ]
    },
    {
     "data": {
      "image/png": "[encoded data removed]",
      "text/plain": [
       "<Figure size 600x400 with 1 Axes>"
      ]
     },
     "metadata": {},
     "output_type": "display_data"
    }
   ],
   "source": [
    "memory_results = pr_time\n",
    "structs = ['raphtory', 'tglib']\n",
    "datasets = data_sets\n",
    "\n",
    "fig, ax = plt.subplots()\n",
    "width = 0.15\n",
    "offset = {'raphtory': -0.5*width, 'tglib': 0.5*width} # {'interval': 2 * width, 'snapshot': 1 * width, 'adjtree': 0 * width, 'tvg': -1 * width,'networkx': -2 * width}\n",
    "color = {'raphtory': (0.65, 0.3, 0.3), 'dynetx': (0, 0.75, 0), 'tglib': (0.8, 0.8, 0.8)}  # {'interval': (0.65, 0.3, 0.3), 'snapshot': (0, 0.75, 0), 'networkx': (0.8, 0.8, 0.8), 'adjtree': (0, 0, .75), 'tvg': (1, 1, 0)}\n",
    "labels = {'raphtory': 'Raphtory', 'dynetx': 'DyNetX', 'tglib':'TGLib'} # {'interval': 'IntervalGraph', 'snapshot': 'SnapshotGraph', 'networkx': 'NetworkX', 'adjtree': 'AdjTree', 'tvg': 'TVG'}\n",
    "label_location = np.arange(len(datasets))\n",
    "\n",
    "for struct in structs:\n",
    "    nums = [memory_results[struct][d] for d in memory_results[struct]]\n",
    "    ax.bar(label_location + offset[struct], nums, width, label=labels[struct], color=color[struct])\n",
    "\n",
    "ax.set_title('Pagerank')\n",
    "ax.set_xticks(label_location)\n",
    "ax.set_xticklabels(datasets)\n",
    "ax.set_yscale('log')\n",
    "ax.set_ylabel('Time (s)')\n",
    "fig.tight_layout()\n",
    "fig.set_figheight(4)\n",
    "fig.set_figwidth(6)\n",
    "plt.tight_layout(pad=0.2)\n",
    "plt.legend()\n",
    "fig.savefig('stats time.eps', format='eps')\n",
    "plt.show()"
   ]
  }
 ],
 "metadata": {
  "kernelspec": {
   "display_name": "Python 3",
   "language": "python",
   "name": "python3"
  },
  "language_info": {
   "codemirror_mode": {
    "name": "ipython",
    "version": 3
   },
   "file_extension": ".py",
   "mimetype": "text/x-python",
   "name": "python",
   "nbconvert_exporter": "python",
   "pygments_lexer": "ipython3",
   "version": "3.10.4"
  }
 },
 "nbformat": 4,
 "nbformat_minor": 2
}
