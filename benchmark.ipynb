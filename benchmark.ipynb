{
 "cells": [
  {
   "cell_type": "markdown",
   "metadata": {},
   "source": [
    "# Benchmark Dynamic network libraries\n",
    "\n",
    "tests on dynetx and tg lib"
   ]
  },
  {
   "cell_type": "markdown",
   "metadata": {},
   "source": [
    "## TGLIB\n"
   ]
  },
  {
   "cell_type": "code",
   "execution_count": 1,
   "metadata": {},
   "outputs": [],
   "source": [
    "import pytglib as tgl  # tglib\n",
    "import scipy.stats as ss  # for Kendall's tau correlation\n",
    "from tqdm import tqdm\n",
    "import time\n",
    "import numpy as np\n",
    "import random\n",
    "# from benchmark_tglib import testname as btgl\n",
    "\n",
    "statsPath = \"./stats_TGLib.txt\"\n",
    "\n",
    "statsFile = open(statsPath, 'w')\n",
    "statsFile.write('')\n",
    "statsFile.close()\n",
    "\n",
    "statsFile = open(statsPath, 'a')\n",
    "\n",
    "statsFile.close()\n",
    "\n",
    "size_big = 10\n",
    "size_smol = 10"
   ]
  },
  {
   "cell_type": "code",
   "execution_count": 2,
   "metadata": {},
   "outputs": [
    {
     "name": "stdout",
     "output_type": "stream",
     "text": [
      "Time taken to read graph 0.1919236183166504 seconds\n",
      "Time taken to get stats 0.07442259788513184 seconds \n",
      "\n",
      "number of nodes: 8227\n",
      "number of edges: 157474\n",
      "number of static edges: 18257\n",
      "number of time stamps: 152757\n",
      "number of transition times: 1\n",
      "min. time stamp: 0\n",
      "max. time stamp: 2678373\n",
      "min. transition time: 1\n",
      "max. transition time: 1\n",
      "min. temporal in-degree: 0\n",
      "max. temporal in-degree: 1937\n",
      "min. temporal out-degree: 1\n",
      "max. temporal out-degree: 1603\n"
     ]
    },
    {
     "name": "stderr",
     "output_type": "stream",
     "text": [
      "100%|██████████| 10/10 [00:00<00:00, 146.43it/s]"
     ]
    },
    {
     "name": "stdout",
     "output_type": "stream",
     "text": [
      "Time taken to get shortest paths 0.0835886001586914 seconds\n",
      "{(294, 3044): VectorTemporalEdge[], (294, 5804): VectorTemporalEdge[], (294, 7354): VectorTemporalEdge[], (294, 6202): VectorTemporalEdge[], (294, 1678): VectorTemporalEdge[], (294, 1639): VectorTemporalEdge[], (294, 3391): VectorTemporalEdge[], (294, 4117): VectorTemporalEdge[], (294, 486): VectorTemporalEdge[(294 218 41694 1), (218 210 188945 1), (210 675 484994 1), (675 145 706650 1), (145 68 749731 1), (68 963 2455199 1), (963 486 2645512 1)], (294, 7211): VectorTemporalEdge[], (6759, 3044): VectorTemporalEdge[], (6759, 5804): VectorTemporalEdge[], (6759, 7354): VectorTemporalEdge[], (6759, 6202): VectorTemporalEdge[], (6759, 1678): VectorTemporalEdge[], (6759, 1639): VectorTemporalEdge[], (6759, 3391): VectorTemporalEdge[], (6759, 4117): VectorTemporalEdge[], (6759, 486): VectorTemporalEdge[], (6759, 7211): VectorTemporalEdge[], (2881, 3044): VectorTemporalEdge[], (2881, 5804): VectorTemporalEdge[], (2881, 7354): VectorTemporalEdge[], (2881, 6202): VectorTemporalEdge[], (2881, 1678): VectorTemporalEdge[], (2881, 1639): VectorTemporalEdge[], (2881, 3391): VectorTemporalEdge[], (2881, 4117): VectorTemporalEdge[], (2881, 486): VectorTemporalEdge[(2881 68 1198604 1), (68 963 2455199 1), (963 486 2645512 1)], (2881, 7211): VectorTemporalEdge[], (2567, 3044): VectorTemporalEdge[], (2567, 5804): VectorTemporalEdge[], (2567, 7354): VectorTemporalEdge[], (2567, 6202): VectorTemporalEdge[], (2567, 1678): VectorTemporalEdge[], (2567, 1639): VectorTemporalEdge[], (2567, 3391): VectorTemporalEdge[], (2567, 4117): VectorTemporalEdge[], (2567, 486): VectorTemporalEdge[], (2567, 7211): VectorTemporalEdge[], (7467, 3044): VectorTemporalEdge[], (7467, 5804): VectorTemporalEdge[], (7467, 7354): VectorTemporalEdge[], (7467, 6202): VectorTemporalEdge[], (7467, 1678): VectorTemporalEdge[], (7467, 1639): VectorTemporalEdge[], (7467, 3391): VectorTemporalEdge[], (7467, 4117): VectorTemporalEdge[], (7467, 486): VectorTemporalEdge[], (7467, 7211): VectorTemporalEdge[], (7966, 3044): VectorTemporalEdge[], (7966, 5804): VectorTemporalEdge[], (7966, 7354): VectorTemporalEdge[], (7966, 6202): VectorTemporalEdge[], (7966, 1678): VectorTemporalEdge[], (7966, 1639): VectorTemporalEdge[], (7966, 3391): VectorTemporalEdge[], (7966, 4117): VectorTemporalEdge[], (7966, 486): VectorTemporalEdge[], (7966, 7211): VectorTemporalEdge[], (1631, 3044): VectorTemporalEdge[], (1631, 5804): VectorTemporalEdge[], (1631, 7354): VectorTemporalEdge[], (1631, 6202): VectorTemporalEdge[], (1631, 1678): VectorTemporalEdge[], (1631, 1639): VectorTemporalEdge[], (1631, 3391): VectorTemporalEdge[], (1631, 4117): VectorTemporalEdge[], (1631, 486): VectorTemporalEdge[(1631 198 303373 1), (198 499 691949 1), (499 442 1622568 1), (442 277 1635831 1), (277 33 1720397 1), (33 850 1726349 1), (850 415 1916648 1), (415 270 1977753 1), (270 205 2022174 1), (205 900 2126366 1), (900 171 2325941 1), (171 68 2355660 1), (68 963 2455199 1), (963 486 2645512 1)], (1631, 7211): VectorTemporalEdge[], (8122, 3044): VectorTemporalEdge[], (8122, 5804): VectorTemporalEdge[], (8122, 7354): VectorTemporalEdge[], (8122, 6202): VectorTemporalEdge[], (8122, 1678): VectorTemporalEdge[], (8122, 1639): VectorTemporalEdge[], (8122, 3391): VectorTemporalEdge[], (8122, 4117): VectorTemporalEdge[], (8122, 486): VectorTemporalEdge[], (8122, 7211): VectorTemporalEdge[], (2489, 3044): VectorTemporalEdge[], (2489, 5804): VectorTemporalEdge[], (2489, 7354): VectorTemporalEdge[], (2489, 6202): VectorTemporalEdge[], (2489, 1678): VectorTemporalEdge[], (2489, 1639): VectorTemporalEdge[], (2489, 3391): VectorTemporalEdge[], (2489, 4117): VectorTemporalEdge[], (2489, 486): VectorTemporalEdge[], (2489, 7211): VectorTemporalEdge[], (4731, 3044): VectorTemporalEdge[], (4731, 5804): VectorTemporalEdge[], (4731, 7354): VectorTemporalEdge[], (4731, 6202): VectorTemporalEdge[], (4731, 1678): VectorTemporalEdge[], (4731, 1639): VectorTemporalEdge[], (4731, 3391): VectorTemporalEdge[], (4731, 4117): VectorTemporalEdge[], (4731, 486): VectorTemporalEdge[], (4731, 7211): VectorTemporalEdge[]}\n",
      "Time taken to get clustering coefficient 0.01663947105407715 seconds\n"
     ]
    },
    {
     "name": "stderr",
     "output_type": "stream",
     "text": [
      "\n"
     ]
    }
   ],
   "source": [
    "inPath = './datasets/tgbl-wiki_edgelist_final.txt'\n",
    "statsFile = open(statsPath, 'a')\n",
    "# btgl.do_benchmark(inPath, statsPath, size_big)\n",
    "pathsSize = size_big\n",
    "statsFile.write(inPath)\n",
    "\n",
    "start = time.time()\n",
    "directed = True\n",
    "g = tgl.load_ordered_edge_list(inPath, directed)\n",
    "end = time.time()\n",
    "\n",
    "print(f\"Time taken to read graph {end-start} seconds\")\n",
    "statsFile.write(f\"Time taken to read graph {end-start} seconds \\n\")\n",
    "\n",
    "start = time.time()\n",
    "stats = tgl.get_statistics(g)\n",
    "end = time.time()\n",
    "\n",
    "statsFile.write(f\"Time taken to get stats {end-start} seconds\")\n",
    "print(f\"Time taken to get stats {end-start} seconds \\n\")\n",
    "statsFile.write(str(stats))\n",
    "statsFile.write(\"\\n\")\n",
    "print(stats)\n",
    "\n",
    "start = time.time()\n",
    "\n",
    "num_nodes = g.getNumberOfNodes()\n",
    "nodes  = list(g.getNodeMap().keys())\n",
    "incidents = tgl.to_incident_lists(g)\n",
    "\n",
    "selected_from = np.random.choice(nodes, size=pathsSize)\n",
    "selected_to = np.random.choice(nodes, size=pathsSize)\n",
    "\n",
    "paths = {}\n",
    "for fro in tqdm(selected_from):\n",
    "    for to in (selected_to):\n",
    "        temp = tgl.minimum_transition_time_path(incidents, fro, to, g.getTimeInterval())\n",
    "        paths[(fro, to)] = temp\n",
    "\n",
    "\n",
    "end = time.time()\n",
    "print(f\"Time taken to get shortest paths {end-start} seconds\")\n",
    "statsFile.write(f\"Time taken to get shortest paths {end-start} seconds\\n\")\n",
    "print(str(paths))\n",
    "statsFile.write(str(paths))\n",
    " \n",
    "start = time.time()\n",
    "cc = (tgl.temporal_clustering_coefficient(incidents, g.getTimeInterval()))\n",
    "\n",
    "end = time.time()\n",
    "print(f\"Time taken to get clustering coefficient {end-start} seconds\")\n",
    "statsFile.write(f\"Time taken to get clustering coefficient {end-start} seconds\\n\")\n",
    "\n",
    "statsFile.write(\"\\n\")\n",
    "statsFile.write(\"\\n\")\n",
    "statsFile.close()"
   ]
  },
  {
   "cell_type": "code",
   "execution_count": 3,
   "metadata": {},
   "outputs": [
    {
     "name": "stdout",
     "output_type": "stream",
     "text": [
      "Time taken to read graph 0.18692803382873535 seconds\n",
      "Time taken to get stats 0.11372804641723633 seconds \n",
      "\n",
      "number of nodes: 8227\n",
      "number of edges: 157474\n",
      "number of static edges: 18257\n",
      "number of time stamps: 152757\n",
      "number of transition times: 152757\n",
      "min. time stamp: 0\n",
      "max. time stamp: 2678373\n",
      "min. transition time: 1000\n",
      "max. transition time: 2679373\n",
      "min. temporal in-degree: 0\n",
      "max. temporal in-degree: 1937\n",
      "min. temporal out-degree: 1\n",
      "max. temporal out-degree: 1603\n"
     ]
    },
    {
     "name": "stderr",
     "output_type": "stream",
     "text": [
      "100%|██████████| 10/10 [00:00<00:00, 2503.61it/s]"
     ]
    },
    {
     "name": "stdout",
     "output_type": "stream",
     "text": [
      "Time taken to get shortest paths 0.016707658767700195 seconds\n",
      "Time taken to get clustering coefficient 0.017782926559448242 seconds\n"
     ]
    },
    {
     "name": "stderr",
     "output_type": "stream",
     "text": [
      "\n"
     ]
    }
   ],
   "source": [
    "inPath = './datasets/tgbl-wiki_edgelist_final_with_intervals.txt'\n",
    "statsFile = open(statsPath, 'a')\n",
    "# btgl.do_benchmark(inPath, statsPath, size_smol)\n",
    "\n",
    "pathsSize = size_smol\n",
    "statsFile.write(inPath)\n",
    "\n",
    "start = time.time()\n",
    "directed = True\n",
    "g = tgl.load_ordered_edge_list(inPath, directed)\n",
    "end = time.time()\n",
    "\n",
    "print(f\"Time taken to read graph {end-start} seconds\")\n",
    "statsFile.write(f\"Time taken to read graph {end-start} seconds \\n\")\n",
    "\n",
    "start = time.time()\n",
    "stats = tgl.get_statistics(g)\n",
    "end = time.time()\n",
    "\n",
    "statsFile.write(f\"Time taken to get stats {end-start} seconds\")\n",
    "print(f\"Time taken to get stats {end-start} seconds \\n\")\n",
    "statsFile.write(str(stats))\n",
    "statsFile.write(\"\\n\")\n",
    "print(stats)\n",
    "\n",
    "start = time.time()\n",
    "\n",
    "num_nodes = g.getNumberOfNodes()\n",
    "nodes  = list(g.getNodeMap().keys())\n",
    "incidents = tgl.to_incident_lists(g)\n",
    "\n",
    "selected_from = np.random.choice(nodes, size=pathsSize)\n",
    "selected_to = np.random.choice(nodes, size=pathsSize)\n",
    "\n",
    "paths = {}\n",
    "\n",
    "for fro in tqdm(selected_from):\n",
    "    for to in (selected_to):\n",
    "        temp = tgl.minimum_transition_time_path(incidents, fro, to, g.getTimeInterval())\n",
    "        paths[(fro, to)] = temp\n",
    "\n",
    "end = time.time()\n",
    "print(f\"Time taken to get shortest paths {end-start} seconds\")\n",
    "statsFile.write(f\"Time taken to get shortest paths {end-start} seconds\\n\")\n",
    "\n",
    "start = time.time()\n",
    "cc = (tgl.temporal_clustering_coefficient(incidents, g.getTimeInterval()))\n",
    "\n",
    "end = time.time()\n",
    "print(f\"Time taken to get clustering coefficient {end-start} seconds\")\n",
    "statsFile.write(f\"Time taken to get clustering coefficient {end-start} seconds\\n\")\n",
    "\n",
    "statsFile.write(\"\\n\")\n",
    "statsFile.write(\"\\n\")\n",
    "statsFile.close()"
   ]
  },
  {
   "cell_type": "code",
   "execution_count": 4,
   "metadata": {},
   "outputs": [
    {
     "name": "stdout",
     "output_type": "stream",
     "text": [
      "Time taken to read graph 7.39859938621521 seconds\n",
      "Time taken to get stats 4.300540208816528 seconds \n",
      "\n",
      "number of nodes: 352637\n",
      "number of edges: 4873540\n",
      "number of static edges: 4730223\n",
      "number of time stamps: 6865\n",
      "number of transition times: 1\n",
      "min. time stamp: 929232000\n",
      "max. time stamp: 1538611200\n",
      "min. transition time: 1\n",
      "max. transition time: 1\n",
      "min. temporal in-degree: 0\n",
      "max. temporal in-degree: 6129\n",
      "min. temporal out-degree: 0\n",
      "max. temporal out-degree: 627\n"
     ]
    },
    {
     "name": "stderr",
     "output_type": "stream",
     "text": [
      "100%|██████████| 10/10 [00:47<00:00,  4.76s/it]"
     ]
    },
    {
     "name": "stdout",
     "output_type": "stream",
     "text": [
      "Time taken to get shortest paths 48.18176007270813 seconds\n",
      "Time taken to get clustering coefficient 9.801138639450073 seconds\n"
     ]
    },
    {
     "name": "stderr",
     "output_type": "stream",
     "text": [
      "\n"
     ]
    }
   ],
   "source": [
    "inPath = './datasets/tgbl-review_edgelist_final.txt'\n",
    "statsFile = open(statsPath, 'a')\n",
    "# btgl.do_benchmark(inPath, statsPath, size_big)\n",
    "\n",
    "pathsSize = size_big\n",
    "\n",
    "\n",
    "start = time.time()\n",
    "directed = True\n",
    "g = tgl.load_ordered_edge_list(inPath, directed)\n",
    "end = time.time()\n",
    "\n",
    "print(f\"Time taken to read graph {end-start} seconds\")\n",
    "statsFile.write(f\"Time taken to read graph {end-start} seconds \\n\")\n",
    "\n",
    "start = time.time()\n",
    "stats = tgl.get_statistics(g)\n",
    "end = time.time()\n",
    "\n",
    "statsFile.write(f\"Time taken to get stats {end-start} seconds\")\n",
    "print(f\"Time taken to get stats {end-start} seconds \\n\")\n",
    "statsFile.write(str(stats))\n",
    "statsFile.write(\"\\n\")\n",
    "print(stats)\n",
    "\n",
    "start = time.time()\n",
    "\n",
    "num_nodes = g.getNumberOfNodes()\n",
    "nodes  = list(g.getNodeMap().keys())\n",
    "incidents = tgl.to_incident_lists(g)\n",
    "\n",
    "selected_from = np.random.choice(nodes, size=pathsSize)\n",
    "selected_to = np.random.choice(nodes, size=pathsSize) #nodes\n",
    "\n",
    "paths = {}\n",
    "for fro in tqdm(selected_from):\n",
    "    for to in (selected_to):\n",
    "        temp = tgl.minimum_transition_time_path(incidents, fro, to, g.getTimeInterval())\n",
    "        paths[(fro, to)] = temp\n",
    "\n",
    "\n",
    "end = time.time()\n",
    "print(f\"Time taken to get shortest paths {end-start} seconds\")\n",
    "statsFile.write(f\"Time taken to get shortest paths {end-start} seconds\\n\")\n",
    "\n",
    "start = time.time()\n",
    "cc = (tgl.temporal_clustering_coefficient(incidents, g.getTimeInterval()))\n",
    "\n",
    "end = time.time()\n",
    "print(f\"Time taken to get clustering coefficient {end-start} seconds\")\n",
    "statsFile.write(f\"Time taken to get clustering coefficient {end-start} seconds\\n\")\n",
    "\n",
    "statsFile.write(\"\\n\")\n",
    "statsFile.write(\"\\n\")\n",
    "statsFile.close()"
   ]
  },
  {
   "cell_type": "code",
   "execution_count": 5,
   "metadata": {},
   "outputs": [
    {
     "name": "stdout",
     "output_type": "stream",
     "text": [
      "Time taken to read graph 7.462098598480225 seconds\n",
      "Time taken to get stats 4.573336362838745 seconds \n",
      "\n",
      "number of nodes: 352637\n",
      "number of edges: 4873540\n",
      "number of static edges: 4730223\n",
      "number of time stamps: 6865\n",
      "number of transition times: 1\n",
      "min. time stamp: 929232000\n",
      "max. time stamp: 1538611200\n",
      "min. transition time: 1\n",
      "max. transition time: 1\n",
      "min. temporal in-degree: 0\n",
      "max. temporal in-degree: 6129\n",
      "min. temporal out-degree: 0\n",
      "max. temporal out-degree: 627\n"
     ]
    },
    {
     "name": "stderr",
     "output_type": "stream",
     "text": [
      "100%|██████████| 10/10 [00:56<00:00,  5.62s/it]\n"
     ]
    },
    {
     "name": "stdout",
     "output_type": "stream",
     "text": [
      "Time taken to get shortest paths 56.9165518283844 seconds\n",
      "Time taken to get clustering coefficient 9.743409156799316 seconds\n"
     ]
    }
   ],
   "source": [
    "# inPath = './datasets/tgbl-review_edgelist_final_with_intervals.txt'\n",
    "# btgl.do_benchmark(inPath, statsPath, size_smol)\n",
    "\n",
    "pathsSize = size_smol\n",
    "\n",
    "statsFile = open(statsPath, 'a')\n",
    "\n",
    "start = time.time()\n",
    "directed = True\n",
    "g = tgl.load_ordered_edge_list(inPath, directed)\n",
    "end = time.time()\n",
    "\n",
    "print(f\"Time taken to read graph {end-start} seconds\")\n",
    "statsFile.write(f\"Time taken to read graph {end-start} seconds \\n\")\n",
    "\n",
    "start = time.time()\n",
    "stats = tgl.get_statistics(g)\n",
    "end = time.time()\n",
    "\n",
    "statsFile.write(f\"Time taken to get stats {end-start} seconds\")\n",
    "print(f\"Time taken to get stats {end-start} seconds \\n\")\n",
    "statsFile.write(str(stats))\n",
    "statsFile.write(\"\\n\")\n",
    "print(stats)\n",
    "\n",
    "start = time.time()\n",
    "\n",
    "num_nodes = g.getNumberOfNodes()\n",
    "nodes  = list(g.getNodeMap().keys())\n",
    "incidents = tgl.to_incident_lists(g)\n",
    "\n",
    "selected_from = np.random.choice(nodes, size=pathsSize)\n",
    "selected_to = np.random.choice(nodes, size=pathsSize)\n",
    "\n",
    "paths = {}\n",
    "for fro in tqdm(selected_from):\n",
    "    for to in (selected_to):\n",
    "        temp = tgl.minimum_transition_time_path(incidents, fro, to, g.getTimeInterval())\n",
    "        paths[(fro, to)] = temp\n",
    "\n",
    "\n",
    "end = time.time()\n",
    "print(f\"Time taken to get shortest paths {end-start} seconds\")\n",
    "statsFile.write(f\"Time taken to get shortest paths {end-start} seconds\\n\")\n",
    "\n",
    "start = time.time()\n",
    "cc = (tgl.temporal_clustering_coefficient(incidents, g.getTimeInterval()))\n",
    "\n",
    "end = time.time()\n",
    "print(f\"Time taken to get clustering coefficient {end-start} seconds\")\n",
    "statsFile.write(f\"Time taken to get clustering coefficient {end-start} seconds\\n\")\n",
    "\n",
    "\n",
    "statsFile.write(\"\\n\")\n",
    "statsFile.write(\"\\n\")\n",
    "statsFile.close()"
   ]
  },
  {
   "cell_type": "markdown",
   "metadata": {},
   "source": [
    "## DynetX"
   ]
  },
  {
   "cell_type": "code",
   "execution_count": 6,
   "metadata": {},
   "outputs": [],
   "source": [
    "from tqdm import tqdm\n",
    "import numpy as np\n",
    "\n",
    "import dynetx.dynetx as dn\n",
    "import dynetx.dynetx.algorithms as al\n",
    "import time\n",
    "import functools \n",
    "from  benchmark_DyNetX import BenchmarkDyNetX as bdyn\n",
    "\n",
    "statsPath = \"./stats_DyNetX.txt\"\n",
    "\n",
    "statsFile = open(statsPath, 'w')\n",
    "statsFile.write('')\n",
    "statsFile.close()\n",
    "\n",
    "statsFile = open(statsPath, 'a')\n",
    "\n",
    "statsFile.close()\n",
    "\n"
   ]
  },
  {
   "cell_type": "code",
   "execution_count": 7,
   "metadata": {},
   "outputs": [
    {
     "name": "stdout",
     "output_type": "stream",
     "text": [
      "Time taken to read graph 1.677725076675415 seconds\n",
      "Time taken to get stats 0.04060053825378418 seconds\n",
      "===========stats===========\n",
      "num_Nodes:  8227\n",
      "num_edges:  18257\n",
      "number of interactions:  2633\n",
      "number of timestamps:  152757\n",
      "min. timestamps:  0\n",
      "max. timestamps:  2678373\n",
      "min in degree:  0\n",
      "max in degree:  256\n",
      "min out degree:  1\n",
      "max out degree:  454\n",
      "===========================\n",
      "Time taken to get clustering coefficient 0.8006689548492432 seconds\n"
     ]
    },
    {
     "name": "stderr",
     "output_type": "stream",
     "text": [
      "100%|██████████| 10/10 [01:43<00:00, 10.37s/it]"
     ]
    },
    {
     "name": "stdout",
     "output_type": "stream",
     "text": [
      "Time taken to get and annotate 410 paths 103.74891948699951 seconds or 0:1:43.74891948699951\n"
     ]
    },
    {
     "name": "stderr",
     "output_type": "stream",
     "text": [
      "\n"
     ]
    }
   ],
   "source": [
    "inPath = './datasets/tgbl-wiki_edgelist_final.txt'\n",
    "bdyn.do_benchmark(inPath, statsPath, size_big)"
   ]
  },
  {
   "cell_type": "code",
   "execution_count": 8,
   "metadata": {},
   "outputs": [],
   "source": [
    "# inPath = './datasets/tgbl-wiki_edgelist_final_with_intervals.txt'\n",
    "# bdyn.do_benchmark(inPath, statsPath, size_smol)"
   ]
  },
  {
   "cell_type": "code",
   "execution_count": 9,
   "metadata": {},
   "outputs": [
    {
     "name": "stdout",
     "output_type": "stream",
     "text": [
      "Time taken to read graph 55.58260989189148 seconds\n",
      "Time taken to get stats 3.7655632495880127 seconds\n",
      "===========stats===========\n",
      "num_Nodes:  352637\n",
      "num_edges:  4730223\n",
      "number of interactions:  1804961\n",
      "number of timestamps:  6865\n",
      "min. timestamps:  929232000\n",
      "max. timestamps:  1538611200\n",
      "min in degree:  0\n",
      "max in degree:  6082\n",
      "min out degree:  0\n",
      "max out degree:  592\n",
      "===========================\n"
     ]
    },
    {
     "ename": "IndexError",
     "evalue": "list index out of range",
     "output_type": "error",
     "traceback": [
      "\u001b[0;31m---------------------------------------------------------------------------\u001b[0m",
      "\u001b[0;31mIndexError\u001b[0m                                Traceback (most recent call last)",
      "\u001b[1;32m/home/dries/Documents/Thesis/code/benchmark.ipynb Cell 12\u001b[0m line \u001b[0;36m2\n\u001b[1;32m      <a href='vscode-notebook-cell:/home/dries/Documents/Thesis/code/benchmark.ipynb#X14sZmlsZQ%3D%3D?line=0'>1</a>\u001b[0m inPath \u001b[39m=\u001b[39m \u001b[39m'\u001b[39m\u001b[39m./datasets/tgbl-review_edgelist_final.txt\u001b[39m\u001b[39m'\u001b[39m\n\u001b[0;32m----> <a href='vscode-notebook-cell:/home/dries/Documents/Thesis/code/benchmark.ipynb#X14sZmlsZQ%3D%3D?line=1'>2</a>\u001b[0m bdyn\u001b[39m.\u001b[39;49mdo_benchmark(inPath, statsPath, size_big)\n",
      "File \u001b[0;32m~/Documents/Thesis/code/benchmark_DyNetX.py:67\u001b[0m, in \u001b[0;36mBenchmarkDyNetX.do_benchmark\u001b[0;34m(inPath, statsPath, pathsSize)\u001b[0m\n\u001b[1;32m     64\u001b[0m statsFile\u001b[39m.\u001b[39mwrite(\u001b[39m\"\u001b[39m\u001b[39mmax out degree: \u001b[39m\u001b[39m\"\u001b[39m \u001b[39m+\u001b[39m \u001b[39mstr\u001b[39m(max_out_degree) \u001b[39m+\u001b[39m \u001b[39m\"\u001b[39m\u001b[39m\\n\u001b[39;00m\u001b[39m\"\u001b[39m)\n\u001b[1;32m     66\u001b[0m start \u001b[39m=\u001b[39m time\u001b[39m.\u001b[39mtime()\n\u001b[0;32m---> 67\u001b[0m cc \u001b[39m=\u001b[39m al\u001b[39m.\u001b[39;49mtemporal_clustering_coefficient(h, (min_ts, max_ts))\n\u001b[1;32m     68\u001b[0m end \u001b[39m=\u001b[39m time\u001b[39m.\u001b[39mtime()\n\u001b[1;32m     69\u001b[0m \u001b[39mprint\u001b[39m(\u001b[39mf\u001b[39m\u001b[39m\"\u001b[39m\u001b[39mTime taken to get clustering coefficient \u001b[39m\u001b[39m{\u001b[39;00mend\u001b[39m-\u001b[39mstart\u001b[39m}\u001b[39;00m\u001b[39m seconds\u001b[39m\u001b[39m\"\u001b[39m)\n",
      "File \u001b[0;32m~/Documents/Thesis/code/dynetx/dynetx/algorithms/clustering_coefficient.py:42\u001b[0m, in \u001b[0;36mtemporal_clustering_coefficient\u001b[0;34m(tg, ti)\u001b[0m\n\u001b[1;32m     40\u001b[0m count \u001b[39m=\u001b[39m \u001b[39m0\u001b[39m\n\u001b[1;32m     41\u001b[0m \u001b[39mfor\u001b[39;00m v \u001b[39min\u001b[39;00m neighbors:\n\u001b[0;32m---> 42\u001b[0m     \u001b[39mfor\u001b[39;00m e \u001b[39min\u001b[39;00m dn\u001b[39m.\u001b[39minteractions(tg, nbunch\u001b[39m=\u001b[39mnodes[v[\u001b[39m0\u001b[39;49m]]):\n\u001b[1;32m     43\u001b[0m         \u001b[39m# print('edges', e)\u001b[39;00m\n\u001b[1;32m     44\u001b[0m         \u001b[39mfor\u001b[39;00m i \u001b[39min\u001b[39;00m \u001b[39mrange\u001b[39m(\u001b[39mlen\u001b[39m(e[\u001b[39m2\u001b[39m][\u001b[39m'\u001b[39m\u001b[39mt\u001b[39m\u001b[39m'\u001b[39m])):\n\u001b[1;32m     45\u001b[0m             \u001b[39m# print('i', i, 't ', e[2]['t'][i][0])\u001b[39;00m\n\u001b[1;32m     46\u001b[0m             \u001b[39mif\u001b[39;00m \u001b[39mnot\u001b[39;00m ti[\u001b[39m0\u001b[39m] \u001b[39m<\u001b[39m\u001b[39m=\u001b[39m e[\u001b[39m2\u001b[39m][\u001b[39m'\u001b[39m\u001b[39mt\u001b[39m\u001b[39m'\u001b[39m][i][\u001b[39m0\u001b[39m] \u001b[39m<\u001b[39m\u001b[39m=\u001b[39m ti[\u001b[39m1\u001b[39m]:\n",
      "\u001b[0;31mIndexError\u001b[0m: list index out of range"
     ]
    }
   ],
   "source": [
    "inPath = './datasets/tgbl-review_edgelist_final.txt'\n",
    "bdyn.do_benchmark(inPath, statsPath, size_big)"
   ]
  },
  {
   "cell_type": "code",
   "execution_count": null,
   "metadata": {},
   "outputs": [],
   "source": [
    "# inPath = './datasets/tgbl-review_edgelist_final_with_intervals.txt'\n",
    "# bdyn.do_benchmark(inPath, statsPath, size_smol)"
   ]
  },
  {
   "cell_type": "code",
   "execution_count": 1,
   "metadata": {},
   "outputs": [],
   "source": [
    "# results \n",
    "from math import sqrt\n",
    "import matplotlib.pylab as plt\n",
    "import numpy as np\n",
    "\n",
    "data_sets = ['tgbl-wiki', 'tgbl-wiki_with_intervals', 'tgbl-review', 'tgbl-review_with_intervals']\n",
    "dynetX_load_times = [1.62,43.29,63.29,0]\n",
    "dynetX_get_stats_times = [0.05, 0.21, 4.52,0]\n",
    "\n",
    "tglib_load_times = [0.22, 0.17, 7.45, 7.49]\n",
    "tglib_det_stats_times = [0.07,0.11,4.39,4.55]\n",
    "\n"
   ]
  },
  {
   "cell_type": "code",
   "execution_count": 2,
   "metadata": {},
   "outputs": [
    {
     "name": "stderr",
     "output_type": "stream",
     "text": [
      "The PostScript backend does not support transparency; partially transparent artists will be rendered opaque.\n"
     ]
    },
    {
     "data": {
      "image/png": "[encoded data removed]",
      "text/plain": [
       "<Figure size 600x400 with 1 Axes>"
      ]
     },
     "metadata": {},
     "output_type": "display_data"
    }
   ],
   "source": [
    "load_time_results = {'tglib': {\n",
    "    'tgbl-wiki': 0.05,\n",
    "    'tgbl-wiki_with_intervals': 0.17,\n",
    "    'tgbl-review': 7.45,\n",
    "    'tgbl-review_with_intervals': 7.49\n",
    "    },\n",
    "    'dynetx': {\n",
    "    'tgbl-wiki': 1.62,\n",
    "    'tgbl-wiki_with_intervals': 43.29,\n",
    "    'tgbl-review': 63.29,\n",
    "    'tgbl-review_with_intervals': 0\n",
    "    }\n",
    "}\n",
    "memory_results = load_time_results\n",
    "structs = ['tglib', 'dynetx']\n",
    "datasets = data_sets\n",
    "\n",
    "# for struct in structs:\n",
    "#     for dataset_name in datasets:\n",
    "#         memory_results.setdefault(struct, {})[dataset_name] = pickle.load(open(f'memory_results_{struct}_{dataset_name}.pkl', 'rb'))\n",
    "\n",
    "fig, ax = plt.subplots()\n",
    "width = 0.15\n",
    "offset = {'tglib': -0.5 * width, 'dynetx': 0.5* width} # {'interval': 2 * width, 'snapshot': 1 * width, 'adjtree': 0 * width, 'tvg': -1 * width,'networkx': -2 * width}\n",
    "color = {'tglib': (0.65, 0.3, 0.3), 'dynetx': (0, 0.75, 0)}  # {'interval': (0.65, 0.3, 0.3), 'snapshot': (0, 0.75, 0), 'networkx': (0.8, 0.8, 0.8), 'adjtree': (0, 0, .75), 'tvg': (1, 1, 0)}\n",
    "labels = {'tglib': 'tglib', 'dynetx': 'dynetx'} # {'interval': 'IntervalGraph', 'snapshot': 'SnapshotGraph', 'networkx': 'NetworkX', 'adjtree': 'AdjTree', 'tvg': 'TVG'}\n",
    "label_location = np.arange(len(datasets))\n",
    "\n",
    "for struct in structs:\n",
    "    nums = [memory_results[struct][d] for d in memory_results[struct]]\n",
    "    ax.bar(label_location + offset[struct], nums, width, label=labels[struct], color=color[struct])\n",
    "\n",
    "# ax.set_title('Memory')\n",
    "ax.set_xticks(label_location)\n",
    "ax.set_xticklabels(datasets)\n",
    "ax.set_yscale('log')\n",
    "ax.set_ylabel('Time (s)')\n",
    "fig.tight_layout()\n",
    "fig.set_figheight(4)\n",
    "fig.set_figwidth(6)\n",
    "plt.tight_layout(pad=0.2)\n",
    "plt.legend()\n",
    "fig.savefig('load time.eps', format='eps')\n",
    "plt.show()"
   ]
  },
  {
   "cell_type": "code",
   "execution_count": 3,
   "metadata": {},
   "outputs": [
    {
     "name": "stderr",
     "output_type": "stream",
     "text": [
      "The PostScript backend does not support transparency; partially transparent artists will be rendered opaque.\n"
     ]
    },
    {
     "data": {
      "image/png": "[encoded data removed]",
      "text/plain": [
       "<Figure size 600x400 with 1 Axes>"
      ]
     },
     "metadata": {},
     "output_type": "display_data"
    }
   ],
   "source": [
    "dynetX_get_stats_times = [0.05, 0.21, 4.52,0]\n",
    "tglib_det_stats_times = [0.07,0.11,4.39,4.55]\n",
    "\n",
    "stats_time_results = {'tglib': {\n",
    "    'tgbl-wiki': 0.07,\n",
    "    'tgbl-wiki_with_intervals': 0.11,\n",
    "    'tgbl-review': 4.39,\n",
    "    'tgbl-review_with_intervals': 4.55\n",
    "    },\n",
    "    'dynetx': {\n",
    "    'tgbl-wiki': 0.05,\n",
    "    'tgbl-wiki_with_intervals': 0.21,\n",
    "    'tgbl-review': 4.52,\n",
    "    'tgbl-review_with_intervals': 0\n",
    "    }\n",
    "}\n",
    "memory_results = stats_time_results\n",
    "structs = ['tglib', 'dynetx']\n",
    "datasets = data_sets\n",
    "\n",
    "# for struct in structs:\n",
    "#     for dataset_name in datasets:\n",
    "#         memory_results.setdefault(struct, {})[dataset_name] = pickle.load(open(f'memory_results_{struct}_{dataset_name}.pkl', 'rb'))\n",
    "\n",
    "fig, ax = plt.subplots()\n",
    "width = 0.15\n",
    "offset = {'tglib': -0.5 * width, 'dynetx': 0.5* width} # {'interval': 2 * width, 'snapshot': 1 * width, 'adjtree': 0 * width, 'tvg': -1 * width,'networkx': -2 * width}\n",
    "color = {'tglib': (0.65, 0.3, 0.3), 'dynetx': (0, 0.75, 0)}  # {'interval': (0.65, 0.3, 0.3), 'snapshot': (0, 0.75, 0), 'networkx': (0.8, 0.8, 0.8), 'adjtree': (0, 0, .75), 'tvg': (1, 1, 0)}\n",
    "labels = {'tglib': 'tglib', 'dynetx': 'dynetx'} # {'interval': 'IntervalGraph', 'snapshot': 'SnapshotGraph', 'networkx': 'NetworkX', 'adjtree': 'AdjTree', 'tvg': 'TVG'}\n",
    "label_location = np.arange(len(datasets))\n",
    "\n",
    "for struct in structs:\n",
    "    nums = [memory_results[struct][d] for d in memory_results[struct]]\n",
    "    ax.bar(label_location + offset[struct], nums, width, label=labels[struct], color=color[struct])\n",
    "\n",
    "# ax.set_title('Memory')\n",
    "ax.set_xticks(label_location)\n",
    "ax.set_xticklabels(datasets)\n",
    "ax.set_yscale('log')\n",
    "ax.set_ylabel('Time (s)')\n",
    "fig.tight_layout()\n",
    "fig.set_figheight(4)\n",
    "fig.set_figwidth(6)\n",
    "plt.tight_layout(pad=0.2)\n",
    "plt.legend()\n",
    "fig.savefig('stats time.eps', format='eps')\n",
    "plt.show()"
   ]
  },
  {
   "cell_type": "code",
   "execution_count": 4,
   "metadata": {},
   "outputs": [
    {
     "name": "stderr",
     "output_type": "stream",
     "text": [
      "The PostScript backend does not support transparency; partially transparent artists will be rendered opaque.\n"
     ]
    },
    {
     "data": {
      "image/png": "[encoded data removed]",
      "text/plain": [
       "<Figure size 600x400 with 1 Axes>"
      ]
     },
     "metadata": {},
     "output_type": "display_data"
    }
   ],
   "source": [
    "\n",
    "data_sets = ['tgbl-wiki',  'tgbl-review']\n",
    "path_time_results = {'tglib': {\n",
    "    'tgbl-wiki': 0.13,\n",
    "    'tgbl-review': 57.66,\n",
    "    },\n",
    "    'dynetx': {\n",
    "    'tgbl-wiki': 166.12,\n",
    "    'tgbl-review': 9.79,\n",
    "    }\n",
    "}\n",
    "memory_results = path_time_results\n",
    "structs = ['tglib', 'dynetx']\n",
    "datasets = data_sets\n",
    "\n",
    "# for struct in structs:\n",
    "#     for dataset_name in datasets:\n",
    "#         memory_results.setdefault(struct, {})[dataset_name] = pickle.load(open(f'memory_results_{struct}_{dataset_name}.pkl', 'rb'))\n",
    "\n",
    "fig, ax = plt.subplots()\n",
    "width = 0.15\n",
    "offset = {'tglib': -0.5 * width, 'dynetx': 0.5* width} # {'interval': 2 * width, 'snapshot': 1 * width, 'adjtree': 0 * width, 'tvg': -1 * width,'networkx': -2 * width}\n",
    "color = {'tglib': (0.65, 0.3, 0.3), 'dynetx': (0, 0.75, 0)}  # {'interval': (0.65, 0.3, 0.3), 'snapshot': (0, 0.75, 0), 'networkx': (0.8, 0.8, 0.8), 'adjtree': (0, 0, .75), 'tvg': (1, 1, 0)}\n",
    "labels = {'tglib': 'tglib', 'dynetx': 'dynetx'} # {'interval': 'IntervalGraph', 'snapshot': 'SnapshotGraph', 'networkx': 'NetworkX', 'adjtree': 'AdjTree', 'tvg': 'TVG'}\n",
    "label_location = np.arange(len(datasets))\n",
    "\n",
    "for struct in structs:\n",
    "    nums = [memory_results[struct][d] for d in memory_results[struct]]\n",
    "    ax.bar(label_location + offset[struct], nums, width, label=labels[struct], color=color[struct])\n",
    "\n",
    "# ax.set_title('Memory')\n",
    "ax.set_xticks(label_location)\n",
    "ax.set_xticklabels(datasets)\n",
    "ax.set_yscale('log')\n",
    "ax.set_ylabel('Time (s)')\n",
    "fig.tight_layout()\n",
    "fig.set_figheight(4)\n",
    "fig.set_figwidth(6)\n",
    "plt.tight_layout(pad=0.2)\n",
    "plt.legend()\n",
    "fig.savefig('load time.eps', format='eps')\n",
    "plt.show()"
   ]
  }
 ],
 "metadata": {
  "kernelspec": {
   "display_name": "Python 3",
   "language": "python",
   "name": "python3"
  },
  "language_info": {
   "codemirror_mode": {
    "name": "ipython",
    "version": 3
   },
   "file_extension": ".py",
   "mimetype": "text/x-python",
   "name": "python",
   "nbconvert_exporter": "python",
   "pygments_lexer": "ipython3",
   "version": "3.8.10"
  }
 },
 "nbformat": 4,
 "nbformat_minor": 2
}
