{
 "cells": [
  {
   "cell_type": "markdown",
   "metadata": {},
   "source": [
    "# Benchmark Dynamic network libraries\n",
    "\n",
    "tests on dynetx and tg lib"
   ]
  },
  {
   "cell_type": "markdown",
   "metadata": {},
   "source": [
    "## TGLIB\n"
   ]
  },
  {
   "cell_type": "code",
   "execution_count": 21,
   "metadata": {},
   "outputs": [],
   "source": [
    "import pytglib as tgl  # tglib\n",
    "import scipy.stats as ss  # for Kendall's tau correlation\n",
    "from tqdm import tqdm\n",
    "import time\n",
    "import numpy as np\n",
    "import random\n",
    "# from benchmark_tglib import testname as btgl\n",
    "\n",
    "statsPath = \"./stats_TGLib.txt\"\n",
    "\n",
    "statsFile = open(statsPath, 'w')\n",
    "statsFile.write('')\n",
    "statsFile.close()\n",
    "\n",
    "statsFile = open(statsPath, 'a')\n",
    "\n",
    "statsFile.close()\n",
    "\n",
    "size_big = 1\n",
    "size_smol = 1\n",
    "\n",
    "wiki_path = \"../Code/Data/tgbl-wiki_edgelist_final.txt\"\n",
    "review_path = \"../Code/Data/tgbl-review_edgelist_final.txt\"\n",
    "wiki_path_h = \"../Code/Data/tgbl-wiki_edgelist_final_h.txt\"\n",
    "review_path_h = \"../Code/Data/tgbl-review_edgelist_final_h.txt\"\n",
    "\n",
    "load_time_results = {}\n",
    "load_time_results['tglib'] = {}\n",
    "load_time_results['dynetx'] = {}\n",
    "load_time_results['raphtory'] = {}\n",
    "\n",
    "stats_time_results = {}\n",
    "stats_time_results['tglib'] = {}\n",
    "stats_time_results['dynetx'] = {}\n",
    "stats_time_results['raphtory'] = {}\n",
    "\n",
    "path_time_results = {}\n",
    "path_time_results['tglib'] = {}\n",
    "path_time_results['dynetx'] = {}\n",
    "path_time_results['raphtory'] = {}\n",
    "\n",
    "# stats_time_results"
   ]
  },
  {
   "cell_type": "code",
   "execution_count": 22,
   "metadata": {},
   "outputs": [
    {
     "name": "stdout",
     "output_type": "stream",
     "text": [
      "Time taken to read graph 0.1947159767150879 seconds\n",
      "Time taken to get stats 0.07029032707214355 seconds \n",
      "\n",
      "number of nodes: 8227\n",
      "number of edges: 157474\n",
      "number of static edges: 18257\n",
      "number of time stamps: 152757\n",
      "number of transition times: 1\n",
      "min. time stamp: 0\n",
      "max. time stamp: 2678373\n",
      "min. transition time: 1\n",
      "max. transition time: 1\n",
      "min. temporal in-degree: 0\n",
      "max. temporal in-degree: 1937\n",
      "min. temporal out-degree: 1\n",
      "max. temporal out-degree: 1603\n"
     ]
    },
    {
     "name": "stderr",
     "output_type": "stream",
     "text": [
      "100%|██████████| 1/1 [00:00<00:00,  4.17it/s]"
     ]
    },
    {
     "name": "stdout",
     "output_type": "stream",
     "text": [
      "Time taken to get shortest paths 0.24898099899291992 seconds\n",
      "Time to get clustering coefficient: 0.016720294952392578\n",
      "Time to get Pagerank: 0.0011837482452392578\n",
      "{'loadTime': 0.1947159767150879, 'stats': 0.07029032707214355, 'paths': 0.24898099899291992, 'clusteringCoefficient': 0.016720294952392578, 'pagerank': 0.0011837482452392578}\n"
     ]
    },
    {
     "name": "stderr",
     "output_type": "stream",
     "text": [
      "\n"
     ]
    }
   ],
   "source": [
    "from benchmark_tglib import testname\n",
    "\n",
    "res = testname.do_benchmark(wiki_path, size_smol)\n",
    "print(res)\n",
    "\n",
    "\n",
    "load_time_results ['tglib']['wiki'] = 0 if not \"loadTime\" in res.keys() else  res[\"loadTime\"]\n",
    "stats_time_results ['tglib']['wiki'] = 0 if not \"stats\" in res.keys() else  res[\"stats\"]\n",
    "path_time_results ['tglib']['wiki'] = 0 if not \"paths\" in res.keys() else  res[\"paths\"]"
   ]
  },
  {
   "cell_type": "code",
   "execution_count": 23,
   "metadata": {},
   "outputs": [],
   "source": [
    "# inPath = './datasets/tgbl-wiki_edgelist_final_with_intervals.txt'\n"
   ]
  },
  {
   "cell_type": "code",
   "execution_count": 38,
   "metadata": {},
   "outputs": [],
   "source": [
    "# inPath = './datasets/tgbl-review_edgelist_final.txt'\n",
    "\n",
    "# res = testname.do_benchmark(review_path, size_smol)\n",
    "# print(res)\n",
    "\n",
    "load_time_results ['tglib']['review'] = 0  #if not \"loadTime\" in res.keys() else  res[\"loadTime\"]\n",
    "stats_time_results ['tglib']['review'] = 0 # if not \"stats\" in res.keys() else  res[\"stats\"]\n",
    "path_time_results ['tglib']['review'] = 0  #if not \"paths\" in res.keys() else  res[\"paths\"]"
   ]
  },
  {
   "cell_type": "code",
   "execution_count": 25,
   "metadata": {},
   "outputs": [],
   "source": [
    "# inPath = './datasets/tgbl-review_edgelist_final_with_intervals.txt'\n"
   ]
  },
  {
   "cell_type": "markdown",
   "metadata": {},
   "source": [
    "## DynetX"
   ]
  },
  {
   "cell_type": "code",
   "execution_count": 26,
   "metadata": {},
   "outputs": [],
   "source": [
    "from tqdm import tqdm\n",
    "import numpy as np\n",
    "\n",
    "import dynetx.dynetx as dn\n",
    "import dynetx.dynetx.algorithms as al\n",
    "import time\n",
    "import functools \n",
    "from  benchmark_DyNetX import BenchmarkDyNetX as bdyn\n",
    "\n",
    "statsPath = \"./stats_DyNetX.txt\"\n",
    "\n",
    "statsFile = open(statsPath, 'w')\n",
    "statsFile.write('')\n",
    "statsFile.close()\n",
    "\n",
    "statsFile = open(statsPath, 'a')\n",
    "\n",
    "statsFile.close()\n",
    "\n"
   ]
  },
  {
   "cell_type": "code",
   "execution_count": 27,
   "metadata": {},
   "outputs": [
    {
     "name": "stdout",
     "output_type": "stream",
     "text": [
      "Time taken to read graph 1.1606624126434326 seconds\n",
      "Time taken to get stats 0.03478288650512695 seconds\n",
      "===========stats===========\n",
      "num_Nodes:  8227\n",
      "num_edges:  18257\n",
      "number of interactions:  2633\n",
      "number of timestamps:  152757\n",
      "min. timestamps:  0\n",
      "max. timestamps:  2678373\n",
      "min in degree:  0\n",
      "max in degree:  256\n",
      "min out degree:  1\n",
      "max out degree:  454\n",
      "===========================\n"
     ]
    },
    {
     "name": "stderr",
     "output_type": "stream",
     "text": [
      "100%|██████████| 1/1 [00:00<00:00,  1.23it/s]"
     ]
    },
    {
     "name": "stdout",
     "output_type": "stream",
     "text": [
      "Time taken to get and annotate 410 paths 0.8165097236633301 seconds or 0:0:0.8165097236633301\n"
     ]
    },
    {
     "name": "stderr",
     "output_type": "stream",
     "text": [
      "\n"
     ]
    }
   ],
   "source": [
    "res = bdyn.do_benchmark(wiki_path, size_big)\n",
    "load_time_results ['dynetx']['wiki'] = 0 if not \"loadTime\" in res.keys() else  res[\"loadTime\"]\n",
    "stats_time_results ['dynetx']['wiki'] = 0 if not \"stats\" in res.keys() else  res[\"stats\"]\n",
    "path_time_results ['dynetx']['wiki'] = 0 if not \"paths\" in res.keys() else  res[\"paths\"]\n",
    "# load_time_results ['dynetx']['wiki'] = res[\"loadTime\"]\n",
    "# load_time_results ['dynetx']['wiki'] = res[\"loadTime\"]"
   ]
  },
  {
   "cell_type": "code",
   "execution_count": 28,
   "metadata": {},
   "outputs": [],
   "source": [
    "# inPath = './datasets/tgbl-wiki_edgelist_final_with_intervals.txt'\n",
    "# bdyn.do_benchmark(inPath, size_smol)"
   ]
  },
  {
   "cell_type": "code",
   "execution_count": 29,
   "metadata": {},
   "outputs": [
    {
     "name": "stdout",
     "output_type": "stream",
     "text": [
      "Time taken to read graph 53.56031775474548 seconds\n",
      "Time taken to get stats 7.610764026641846 seconds\n",
      "===========stats===========\n",
      "num_Nodes:  352637\n",
      "num_edges:  4730223\n",
      "number of interactions:  1804961\n",
      "number of timestamps:  6865\n",
      "min. timestamps:  0\n",
      "max. timestamps:  609379200\n",
      "min in degree:  0\n",
      "max in degree:  6082\n",
      "min out degree:  0\n",
      "max out degree:  592\n",
      "===========================\n"
     ]
    },
    {
     "name": "stderr",
     "output_type": "stream",
     "text": [
      "100%|██████████| 1/1 [00:00<00:00, 11.10it/s]"
     ]
    },
    {
     "name": "stdout",
     "output_type": "stream",
     "text": [
      "Time taken to get and annotate 17630 paths 0.21339702606201172 seconds or 0:0:0.21339702606201172\n"
     ]
    },
    {
     "name": "stderr",
     "output_type": "stream",
     "text": [
      "\n"
     ]
    }
   ],
   "source": [
    "res = bdyn.do_benchmark(review_path, size_big)\n",
    "load_time_results ['dynetx']['review'] = 0 if not \"loadTime\" in res.keys() else  res[\"loadTime\"]\n",
    "stats_time_results ['dynetx']['review'] = 0 if not \"stats\" in res.keys() else  res[\"stats\"]\n",
    "path_time_results ['dynetx']['review'] = 0 if not \"paths\" in res.keys() else  res[\"paths\"]"
   ]
  },
  {
   "cell_type": "code",
   "execution_count": 30,
   "metadata": {},
   "outputs": [],
   "source": [
    "# inPath = './datasets/tgbl-review_edgelist_final_with_intervals.txt'\n",
    "# bdyn.do_benchmark(inPath, size_smol)"
   ]
  },
  {
   "cell_type": "markdown",
   "metadata": {},
   "source": [
    "## Raphtory\n"
   ]
  },
  {
   "cell_type": "code",
   "execution_count": 31,
   "metadata": {},
   "outputs": [],
   "source": [
    "from benchmark_raphtory import BenchmarkRaphtory  as br"
   ]
  },
  {
   "cell_type": "code",
   "execution_count": 32,
   "metadata": {},
   "outputs": [
    {
     "name": "stdout",
     "output_type": "stream",
     "text": [
      "Time to read pandas from file: 0.04\n"
     ]
    },
    {
     "data": {
      "application/vnd.jupyter.widget-view+json": {
       "model_id": "a303243ccd1c492ba01b7dd225f882f6",
       "version_major": 2,
       "version_minor": 0
      },
      "text/plain": [
       "HBox(children=(HTML(value=''), IntProgress(value=0, max=157474), HTML(value='')))"
      ]
     },
     "metadata": {},
     "output_type": "display_data"
    },
    {
     "name": "stdout",
     "output_type": "stream",
     "text": [
      "Time to load graph from pandas: 0.16\n",
      "num_nodes: 8227\n",
      "num_edges: 18257\n",
      "min_in_deg: 0\n",
      "max_in_deg: 256\n",
      "min_out_deg: 1\n",
      "max_out_deg: 454\n",
      "min_ts: 0\n",
      "max_ts: 2678374\n",
      "Time to get stats: 0.006781816482543945\n",
      "Time to get clustering coefficient: 0.08757305145263672\n",
      "Time to get Pagerank: 0.07806062698364258\n"
     ]
    }
   ],
   "source": [
    "res = br.do_benchmark(wiki_path_h)\n",
    "load_time_results ['raphtory']['wiki'] = 0 if not \"loadTime\" in res.keys() else res[\"loadTime\"]\n",
    "stats_time_results ['raphtory']['wiki'] = 0 if not \"stats\" in res.keys() else res[\"stats\"]\n",
    "path_time_results ['raphtory']['wiki'] = 0 if not \"paths\" in res.keys() else res[\"paths\"]"
   ]
  },
  {
   "cell_type": "code",
   "execution_count": null,
   "metadata": {},
   "outputs": [],
   "source": []
  },
  {
   "cell_type": "code",
   "execution_count": 33,
   "metadata": {},
   "outputs": [
    {
     "name": "stdout",
     "output_type": "stream",
     "text": [
      "Time to read pandas from file: 2.07\n"
     ]
    },
    {
     "data": {
      "application/vnd.jupyter.widget-view+json": {
       "model_id": "c7c7007cb5e64091902be65cff8b7fcb",
       "version_major": 2,
       "version_minor": 0
      },
      "text/plain": [
       "HBox(children=(HTML(value=''), IntProgress(value=0, max=4873540), HTML(value='')))"
      ]
     },
     "metadata": {},
     "output_type": "display_data"
    },
    {
     "name": "stdout",
     "output_type": "stream",
     "text": [
      "Time to load graph from pandas: 11.09\n",
      "num_nodes: 352637\n",
      "num_edges: 4730223\n",
      "min_in_deg: 0\n",
      "max_in_deg: 6082\n",
      "min_out_deg: 0\n",
      "max_out_deg: 592\n",
      "min_ts: 0\n",
      "max_ts: 609379201\n",
      "Time to get stats: 0.3162691593170166\n",
      "Time to get clustering coefficient: 5.194557189941406\n",
      "Time to get Pagerank: 0.3361670970916748\n"
     ]
    }
   ],
   "source": [
    "res = br.do_benchmark(review_path_h)\n",
    "load_time_results ['raphtory']['review'] = 0 if not \"loadTime\" in res.keys() else  res[\"loadTime\"]\n",
    "stats_time_results ['raphtory']['review'] = 0 if not \"stats\" in res.keys() else  res[\"stats\"]\n",
    "path_time_results ['raphtory']['review'] = 0 if not \"paths\" in res.keys() else  res[\"paths\"]"
   ]
  },
  {
   "cell_type": "code",
   "execution_count": 39,
   "metadata": {},
   "outputs": [
    {
     "name": "stdout",
     "output_type": "stream",
     "text": [
      "{'dynetx': {'review': 53.56031775474548, 'wiki': 1.1606624126434326},\n",
      " 'raphtory': {'review': 13.156064748764038, 'wiki': 0.2037031650543213},\n",
      " 'tglib': {'review': 0, 'wiki': 0.1947159767150879}}\n",
      "{'dynetx': {'review': 7.610764026641846, 'wiki': 0.03478288650512695},\n",
      " 'raphtory': {'review': 0.3162691593170166, 'wiki': 0.006781816482543945},\n",
      " 'tglib': {'review': 0, 'wiki': 0.07029032707214355}}\n",
      "{'dynetx': {'review': 0.21339702606201172, 'wiki': 0.8165097236633301},\n",
      " 'raphtory': {'review': 0, 'wiki': 0},\n",
      " 'tglib': {'review': 0, 'wiki': 0.24898099899291992}}\n"
     ]
    }
   ],
   "source": [
    "import pprint\n",
    "\n",
    "# Prints the nicely formatted dictionary\n",
    "pprint.pprint(load_time_results)\n",
    "pprint.pprint(stats_time_results)\n",
    "pprint.pprint(path_time_results)\n"
   ]
  },
  {
   "cell_type": "code",
   "execution_count": 41,
   "metadata": {},
   "outputs": [],
   "source": [
    "# results \n",
    "from math import sqrt\n",
    "import matplotlib.pylab as plt\n",
    "import numpy as np\n",
    "\n",
    "data_sets = ['tgbl-wiki',  'tgbl-review']\n",
    "# dynetX_load_times = [1.62,43.29,63.29,0]\n",
    "# dynetX_get_stats_times = [0.05, 0.21, 4.52,0]\n",
    "\n",
    "# tglib_load_times = [0.22, 0.17, 7.45, 7.49]\n",
    "# tglib_det_stats_times = [0.07,0.11,4.39,4.55]\n",
    "\n"
   ]
  },
  {
   "cell_type": "code",
   "execution_count": 48,
   "metadata": {},
   "outputs": [
    {
     "name": "stdout",
     "output_type": "stream",
     "text": [
      "{'dynetx': {'review': 53.56031775474548, 'wiki': 1.1606624126434326},\n",
      " 'raphtory': {'review': 13.156064748764038, 'wiki': 0.2037031650543213},\n",
      " 'tglib': {'review': 0, 'wiki': 0.1947159767150879}}\n"
     ]
    },
    {
     "ename": "TypeError",
     "evalue": "unsupported operand type(s) for +: 'int' and 'dict'",
     "output_type": "error",
     "traceback": [
      "\u001b[0;31m---------------------------------------------------------------------------\u001b[0m",
      "\u001b[0;31mTypeError\u001b[0m                                 Traceback (most recent call last)",
      "\u001b[1;32m/home/dries/Documents/GitHub/Thesis-dynamic-networks/benchmark.ipynb Cell 21\u001b[0m line \u001b[0;36m3\n\u001b[1;32m     <a href='vscode-notebook-cell:/home/dries/Documents/GitHub/Thesis-dynamic-networks/benchmark.ipynb#X26sZmlsZQ%3D%3D?line=30'>31</a>\u001b[0m \u001b[39mfor\u001b[39;00m struct \u001b[39min\u001b[39;00m structs:\n\u001b[1;32m     <a href='vscode-notebook-cell:/home/dries/Documents/GitHub/Thesis-dynamic-networks/benchmark.ipynb#X26sZmlsZQ%3D%3D?line=31'>32</a>\u001b[0m     nums \u001b[39m=\u001b[39m [memory_results[struct][d] \u001b[39mfor\u001b[39;00m d \u001b[39min\u001b[39;00m memory_results[struct]]\n\u001b[0;32m---> <a href='vscode-notebook-cell:/home/dries/Documents/GitHub/Thesis-dynamic-networks/benchmark.ipynb#X26sZmlsZQ%3D%3D?line=32'>33</a>\u001b[0m     \u001b[39mprint\u001b[39m((label_location \u001b[39m+\u001b[39;49m offset)[struct] )\n\u001b[1;32m     <a href='vscode-notebook-cell:/home/dries/Documents/GitHub/Thesis-dynamic-networks/benchmark.ipynb#X26sZmlsZQ%3D%3D?line=33'>34</a>\u001b[0m     \u001b[39mprint\u001b[39m(nums)\n\u001b[1;32m     <a href='vscode-notebook-cell:/home/dries/Documents/GitHub/Thesis-dynamic-networks/benchmark.ipynb#X26sZmlsZQ%3D%3D?line=34'>35</a>\u001b[0m     \u001b[39mprint\u001b[39m(width)\n",
      "\u001b[0;31mTypeError\u001b[0m: unsupported operand type(s) for +: 'int' and 'dict'"
     ]
    },
    {
     "data": {
      "image/png": "[encoded data removed]",
      "text/plain": [
       "<Figure size 640x480 with 1 Axes>"
      ]
     },
     "metadata": {},
     "output_type": "display_data"
    }
   ],
   "source": [
    "# load_time_results['tglib'] = {\n",
    "#     'wiki': 0.05,\n",
    "    # 'tgbl-wiki_with_intervals': 0.17,\n",
    "    # 'review': 7.45,\n",
    "    # 'tgbl-review_with_intervals': 7.49\n",
    "    # }\n",
    "#     'dynetx': {\n",
    "#     'tgbl-wiki': 1.62,\n",
    "#     'tgbl-wiki_with_intervals': 43.29,\n",
    "#     'tgbl-review': 63.29,\n",
    "#     'tgbl-review_with_intervals': 0\n",
    "#     }\n",
    "# }\n",
    "\n",
    "pprint.pprint(load_time_results)\n",
    "memory_results = load_time_results\n",
    "structs = ['raphtory', 'dynetx', 'tglib']\n",
    "datasets = data_sets\n",
    "\n",
    "# for struct in structs:\n",
    "#     for dataset_name in datasets:\n",
    "#         memory_results.setdefault(struct, {})[dataset_name] = pickle.load(open(f'memory_results_{struct}_{dataset_name}.pkl', 'rb'))\n",
    "\n",
    "fig, ax = plt.subplots()\n",
    "width = 0.15\n",
    "offset = {'raphtory': -width, 'dynetx': 0, 'tglib': width} # {'interval': 2 * width, 'snapshot': 1 * width, 'adjtree': 0 * width, 'tvg': -1 * width,'networkx': -2 * width}\n",
    "color = {'raphtory': (0.65, 0.3, 0.3), 'dynetx': (0, 0.75, 0), 'tglib': (0.8, 0.8, 0.8)}  # {'interval': (0.65, 0.3, 0.3), 'snapshot': (0, 0.75, 0), 'networkx': (0.8, 0.8, 0.8), 'adjtree': (0, 0, .75), 'tvg': (1, 1, 0)}\n",
    "labels = {'raphtory': 'raphtory', 'dynetx': 'dynetx', 'tglib':'tglib'} # {'interval': 'IntervalGraph', 'snapshot': 'SnapshotGraph', 'networkx': 'NetworkX', 'adjtree': 'AdjTree', 'tvg': 'TVG'}\n",
    "label_location = np.arange(len(datasets))\n",
    "\n",
    "for struct in structs:\n",
    "    nums = [memory_results[struct][d] for d in memory_results[struct]]\n",
    "    print((label_location + offset)[struct] )\n",
    "    print(nums)\n",
    "    print(width)\n",
    "    print(labels[struct])\n",
    "    print(color[struct])\n",
    "    ax.bar((label_location + offset)[struct], nums, width, label=labels[struct], color=color[struct])\n",
    "\n",
    "# ax.set_title('Memory')\n",
    "ax.set_xticks(label_location)\n",
    "ax.set_xticklabels(datasets)\n",
    "ax.set_yscale('log')\n",
    "ax.set_ylabel('Time (s)')\n",
    "fig.tight_layout()\n",
    "fig.set_figheight(4)\n",
    "fig.set_figwidth(6)\n",
    "plt.tight_layout(pad=0.2)\n",
    "plt.legend()\n",
    "fig.savefig('load time.eps', format='eps')\n",
    "plt.show()"
   ]
  },
  {
   "cell_type": "code",
   "execution_count": 37,
   "metadata": {},
   "outputs": [
    {
     "ename": "ValueError",
     "evalue": "shape mismatch: objects cannot be broadcast to a single shape.  Mismatch is between arg 0 with shape (3,) and arg 1 with shape (2,).",
     "output_type": "error",
     "traceback": [
      "\u001b[0;31m---------------------------------------------------------------------------\u001b[0m",
      "\u001b[0;31mValueError\u001b[0m                                Traceback (most recent call last)",
      "\u001b[1;32m/home/dries/Documents/GitHub/Thesis-dynamic-networks/benchmark.ipynb Cell 22\u001b[0m line \u001b[0;36m3\n\u001b[1;32m     <a href='vscode-notebook-cell:/home/dries/Documents/GitHub/Thesis-dynamic-networks/benchmark.ipynb#X30sZmlsZQ%3D%3D?line=31'>32</a>\u001b[0m \u001b[39mfor\u001b[39;00m struct \u001b[39min\u001b[39;00m structs:\n\u001b[1;32m     <a href='vscode-notebook-cell:/home/dries/Documents/GitHub/Thesis-dynamic-networks/benchmark.ipynb#X30sZmlsZQ%3D%3D?line=32'>33</a>\u001b[0m     nums \u001b[39m=\u001b[39m [memory_results[struct][d] \u001b[39mfor\u001b[39;00m d \u001b[39min\u001b[39;00m memory_results[struct]]\n\u001b[0;32m---> <a href='vscode-notebook-cell:/home/dries/Documents/GitHub/Thesis-dynamic-networks/benchmark.ipynb#X30sZmlsZQ%3D%3D?line=33'>34</a>\u001b[0m     ax\u001b[39m.\u001b[39;49mbar(label_location \u001b[39m+\u001b[39;49m offset[struct], nums, width, label\u001b[39m=\u001b[39;49mlabels[struct], color\u001b[39m=\u001b[39;49mcolor[struct])\n\u001b[1;32m     <a href='vscode-notebook-cell:/home/dries/Documents/GitHub/Thesis-dynamic-networks/benchmark.ipynb#X30sZmlsZQ%3D%3D?line=35'>36</a>\u001b[0m \u001b[39m# ax.set_title('Memory')\u001b[39;00m\n\u001b[1;32m     <a href='vscode-notebook-cell:/home/dries/Documents/GitHub/Thesis-dynamic-networks/benchmark.ipynb#X30sZmlsZQ%3D%3D?line=36'>37</a>\u001b[0m ax\u001b[39m.\u001b[39mset_xticks(label_location)\n",
      "File \u001b[0;32m~/.local/lib/python3.8/site-packages/matplotlib/__init__.py:1446\u001b[0m, in \u001b[0;36m_preprocess_data.<locals>.inner\u001b[0;34m(ax, data, *args, **kwargs)\u001b[0m\n\u001b[1;32m   1443\u001b[0m \u001b[39m@functools\u001b[39m\u001b[39m.\u001b[39mwraps(func)\n\u001b[1;32m   1444\u001b[0m \u001b[39mdef\u001b[39;00m \u001b[39minner\u001b[39m(ax, \u001b[39m*\u001b[39margs, data\u001b[39m=\u001b[39m\u001b[39mNone\u001b[39;00m, \u001b[39m*\u001b[39m\u001b[39m*\u001b[39mkwargs):\n\u001b[1;32m   1445\u001b[0m     \u001b[39mif\u001b[39;00m data \u001b[39mis\u001b[39;00m \u001b[39mNone\u001b[39;00m:\n\u001b[0;32m-> 1446\u001b[0m         \u001b[39mreturn\u001b[39;00m func(ax, \u001b[39m*\u001b[39;49m\u001b[39mmap\u001b[39;49m(sanitize_sequence, args), \u001b[39m*\u001b[39;49m\u001b[39m*\u001b[39;49mkwargs)\n\u001b[1;32m   1448\u001b[0m     bound \u001b[39m=\u001b[39m new_sig\u001b[39m.\u001b[39mbind(ax, \u001b[39m*\u001b[39margs, \u001b[39m*\u001b[39m\u001b[39m*\u001b[39mkwargs)\n\u001b[1;32m   1449\u001b[0m     auto_label \u001b[39m=\u001b[39m (bound\u001b[39m.\u001b[39marguments\u001b[39m.\u001b[39mget(label_namer)\n\u001b[1;32m   1450\u001b[0m                   \u001b[39mor\u001b[39;00m bound\u001b[39m.\u001b[39mkwargs\u001b[39m.\u001b[39mget(label_namer))\n",
      "File \u001b[0;32m~/.local/lib/python3.8/site-packages/matplotlib/axes/_axes.py:2409\u001b[0m, in \u001b[0;36mAxes.bar\u001b[0;34m(self, x, height, width, bottom, align, **kwargs)\u001b[0m\n\u001b[1;32m   2406\u001b[0m     \u001b[39mif\u001b[39;00m yerr \u001b[39mis\u001b[39;00m \u001b[39mnot\u001b[39;00m \u001b[39mNone\u001b[39;00m:\n\u001b[1;32m   2407\u001b[0m         yerr \u001b[39m=\u001b[39m \u001b[39mself\u001b[39m\u001b[39m.\u001b[39m_convert_dx(yerr, y0, y, \u001b[39mself\u001b[39m\u001b[39m.\u001b[39mconvert_yunits)\n\u001b[0;32m-> 2409\u001b[0m x, height, width, y, linewidth, hatch \u001b[39m=\u001b[39m np\u001b[39m.\u001b[39;49mbroadcast_arrays(\n\u001b[1;32m   2410\u001b[0m     \u001b[39m# Make args iterable too.\u001b[39;49;00m\n\u001b[1;32m   2411\u001b[0m     np\u001b[39m.\u001b[39;49matleast_1d(x), height, width, y, linewidth, hatch)\n\u001b[1;32m   2413\u001b[0m \u001b[39m# Now that units have been converted, set the tick locations.\u001b[39;00m\n\u001b[1;32m   2414\u001b[0m \u001b[39mif\u001b[39;00m orientation \u001b[39m==\u001b[39m \u001b[39m'\u001b[39m\u001b[39mvertical\u001b[39m\u001b[39m'\u001b[39m:\n",
      "File \u001b[0;32m<__array_function__ internals>:180\u001b[0m, in \u001b[0;36mbroadcast_arrays\u001b[0;34m(*args, **kwargs)\u001b[0m\n",
      "File \u001b[0;32m~/.local/lib/python3.8/site-packages/numpy/lib/stride_tricks.py:539\u001b[0m, in \u001b[0;36mbroadcast_arrays\u001b[0;34m(subok, *args)\u001b[0m\n\u001b[1;32m    532\u001b[0m \u001b[39m# nditer is not used here to avoid the limit of 32 arrays.\u001b[39;00m\n\u001b[1;32m    533\u001b[0m \u001b[39m# Otherwise, something like the following one-liner would suffice:\u001b[39;00m\n\u001b[1;32m    534\u001b[0m \u001b[39m# return np.nditer(args, flags=['multi_index', 'zerosize_ok'],\u001b[39;00m\n\u001b[1;32m    535\u001b[0m \u001b[39m#                  order='C').itviews\u001b[39;00m\n\u001b[1;32m    537\u001b[0m args \u001b[39m=\u001b[39m [np\u001b[39m.\u001b[39marray(_m, copy\u001b[39m=\u001b[39m\u001b[39mFalse\u001b[39;00m, subok\u001b[39m=\u001b[39msubok) \u001b[39mfor\u001b[39;00m _m \u001b[39min\u001b[39;00m args]\n\u001b[0;32m--> 539\u001b[0m shape \u001b[39m=\u001b[39m _broadcast_shape(\u001b[39m*\u001b[39;49margs)\n\u001b[1;32m    541\u001b[0m \u001b[39mif\u001b[39;00m \u001b[39mall\u001b[39m(array\u001b[39m.\u001b[39mshape \u001b[39m==\u001b[39m shape \u001b[39mfor\u001b[39;00m array \u001b[39min\u001b[39;00m args):\n\u001b[1;32m    542\u001b[0m     \u001b[39m# Common case where nothing needs to be broadcasted.\u001b[39;00m\n\u001b[1;32m    543\u001b[0m     \u001b[39mreturn\u001b[39;00m args\n",
      "File \u001b[0;32m~/.local/lib/python3.8/site-packages/numpy/lib/stride_tricks.py:421\u001b[0m, in \u001b[0;36m_broadcast_shape\u001b[0;34m(*args)\u001b[0m\n\u001b[1;32m    416\u001b[0m \u001b[39m\u001b[39m\u001b[39m\"\"\"Returns the shape of the arrays that would result from broadcasting the\u001b[39;00m\n\u001b[1;32m    417\u001b[0m \u001b[39msupplied arrays against each other.\u001b[39;00m\n\u001b[1;32m    418\u001b[0m \u001b[39m\"\"\"\u001b[39;00m\n\u001b[1;32m    419\u001b[0m \u001b[39m# use the old-iterator because np.nditer does not handle size 0 arrays\u001b[39;00m\n\u001b[1;32m    420\u001b[0m \u001b[39m# consistently\u001b[39;00m\n\u001b[0;32m--> 421\u001b[0m b \u001b[39m=\u001b[39m np\u001b[39m.\u001b[39;49mbroadcast(\u001b[39m*\u001b[39;49margs[:\u001b[39m32\u001b[39;49m])\n\u001b[1;32m    422\u001b[0m \u001b[39m# unfortunately, it cannot handle 32 or more arguments directly\u001b[39;00m\n\u001b[1;32m    423\u001b[0m \u001b[39mfor\u001b[39;00m pos \u001b[39min\u001b[39;00m \u001b[39mrange\u001b[39m(\u001b[39m32\u001b[39m, \u001b[39mlen\u001b[39m(args), \u001b[39m31\u001b[39m):\n\u001b[1;32m    424\u001b[0m     \u001b[39m# ironically, np.broadcast does not properly handle np.broadcast\u001b[39;00m\n\u001b[1;32m    425\u001b[0m     \u001b[39m# objects (it treats them as scalars)\u001b[39;00m\n\u001b[1;32m    426\u001b[0m     \u001b[39m# use broadcasting to avoid allocating the full array\u001b[39;00m\n",
      "\u001b[0;31mValueError\u001b[0m: shape mismatch: objects cannot be broadcast to a single shape.  Mismatch is between arg 0 with shape (3,) and arg 1 with shape (2,)."
     ]
    },
    {
     "data": {
      "image/png": "[encoded data removed]",
      "text/plain": [
       "<Figure size 640x480 with 1 Axes>"
      ]
     },
     "metadata": {},
     "output_type": "display_data"
    }
   ],
   "source": [
    "dynetX_get_stats_times = [0.05, 0.21, 4.52,0]\n",
    "tglib_det_stats_times = [0.07,0.11,4.39,4.55]\n",
    "\n",
    "# stats_time_results['tglib'] = {\n",
    "#     'wiki': 0.07,\n",
    "#     # 'tgbl-wiki_with_intervals': 0.11,\n",
    "#     'review': 4.39,\n",
    "#     # 'tgbl-review_with_intervals': 4.55\n",
    "#     }\n",
    "#     'dynetx': {\n",
    "#     'tgbl-wiki': 0.05,\n",
    "#     'tgbl-wiki_with_intervals': 0.21,\n",
    "#     'tgbl-review': 4.52,\n",
    "#     'tgbl-review_with_intervals': 0\n",
    "#     }\n",
    "# }\n",
    "memory_results = stats_time_results\n",
    "structs = ['raphtory', 'dynetx', 'tglib']\n",
    "datasets = data_sets\n",
    "\n",
    "# for struct in structs:\n",
    "#     for dataset_name in datasets:\n",
    "#         memory_results.setdefault(struct, {})[dataset_name] = pickle.load(open(f'memory_results_{struct}_{dataset_name}.pkl', 'rb'))\n",
    "\n",
    "fig, ax = plt.subplots()\n",
    "width = 0.15\n",
    "offset = {'raphtory': -width, 'dynetx': 0, 'tglib': width} # {'interval': 2 * width, 'snapshot': 1 * width, 'adjtree': 0 * width, 'tvg': -1 * width,'networkx': -2 * width}\n",
    "color = {'raphtory': (0.65, 0.3, 0.3), 'dynetx': (0, 0.75, 0), 'tglib': (0.8, 0.8, 0.8)}  # {'interval': (0.65, 0.3, 0.3), 'snapshot': (0, 0.75, 0), 'networkx': (0.8, 0.8, 0.8), 'adjtree': (0, 0, .75), 'tvg': (1, 1, 0)}\n",
    "labels = {'raphtory': 'raphtory', 'dynetx': 'dynetx', 'tglib':'tglib'} # {'interval': 'IntervalGraph', 'snapshot': 'SnapshotGraph', 'networkx': 'NetworkX', 'adjtree': 'AdjTree', 'tvg': 'TVG'}\n",
    "label_location = np.arange(len(datasets))\n",
    "\n",
    "for struct in structs:\n",
    "    nums = [memory_results[struct][d] for d in memory_results[struct]]\n",
    "    ax.bar(label_location + offset[struct], nums, width, label=labels[struct], color=color[struct])\n",
    "\n",
    "# ax.set_title('Memory')\n",
    "ax.set_xticks(label_location)\n",
    "ax.set_xticklabels(datasets)\n",
    "ax.set_yscale('log')\n",
    "ax.set_ylabel('Time (s)')\n",
    "fig.tight_layout()\n",
    "fig.set_figheight(4)\n",
    "fig.set_figwidth(6)\n",
    "plt.tight_layout(pad=0.2)\n",
    "plt.legend()\n",
    "fig.savefig('stats time.eps', format='eps')\n",
    "plt.show()"
   ]
  },
  {
   "cell_type": "code",
   "execution_count": null,
   "metadata": {},
   "outputs": [
    {
     "ename": "NameError",
     "evalue": "name 'plt' is not defined",
     "output_type": "error",
     "traceback": [
      "\u001b[0;31m---------------------------------------------------------------------------\u001b[0m",
      "\u001b[0;31mNameError\u001b[0m                                 Traceback (most recent call last)",
      "\u001b[1;32m/home/dries/Documents/GitHub/Thesis-dynamic-networks/benchmark.ipynb Cell 23\u001b[0m line \u001b[0;36m1\n\u001b[1;32m     <a href='vscode-notebook-cell:/home/dries/Documents/GitHub/Thesis-dynamic-networks/benchmark.ipynb#X31sZmlsZQ%3D%3D?line=12'>13</a>\u001b[0m datasets \u001b[39m=\u001b[39m data_sets\n\u001b[1;32m     <a href='vscode-notebook-cell:/home/dries/Documents/GitHub/Thesis-dynamic-networks/benchmark.ipynb#X31sZmlsZQ%3D%3D?line=14'>15</a>\u001b[0m \u001b[39m# for struct in structs:\u001b[39;00m\n\u001b[1;32m     <a href='vscode-notebook-cell:/home/dries/Documents/GitHub/Thesis-dynamic-networks/benchmark.ipynb#X31sZmlsZQ%3D%3D?line=15'>16</a>\u001b[0m \u001b[39m#     for dataset_name in datasets:\u001b[39;00m\n\u001b[1;32m     <a href='vscode-notebook-cell:/home/dries/Documents/GitHub/Thesis-dynamic-networks/benchmark.ipynb#X31sZmlsZQ%3D%3D?line=16'>17</a>\u001b[0m \u001b[39m#         memory_results.setdefault(struct, {})[dataset_name] = pickle.load(open(f'memory_results_{struct}_{dataset_name}.pkl', 'rb'))\u001b[39;00m\n\u001b[0;32m---> <a href='vscode-notebook-cell:/home/dries/Documents/GitHub/Thesis-dynamic-networks/benchmark.ipynb#X31sZmlsZQ%3D%3D?line=18'>19</a>\u001b[0m fig, ax \u001b[39m=\u001b[39m plt\u001b[39m.\u001b[39msubplots()\n\u001b[1;32m     <a href='vscode-notebook-cell:/home/dries/Documents/GitHub/Thesis-dynamic-networks/benchmark.ipynb#X31sZmlsZQ%3D%3D?line=19'>20</a>\u001b[0m width \u001b[39m=\u001b[39m \u001b[39m0.15\u001b[39m\n\u001b[1;32m     <a href='vscode-notebook-cell:/home/dries/Documents/GitHub/Thesis-dynamic-networks/benchmark.ipynb#X31sZmlsZQ%3D%3D?line=20'>21</a>\u001b[0m offset \u001b[39m=\u001b[39m {\u001b[39m'\u001b[39m\u001b[39mtglib\u001b[39m\u001b[39m'\u001b[39m: \u001b[39m-\u001b[39m\u001b[39m0.5\u001b[39m \u001b[39m*\u001b[39m width, \u001b[39m'\u001b[39m\u001b[39mdynetx\u001b[39m\u001b[39m'\u001b[39m: \u001b[39m0.5\u001b[39m\u001b[39m*\u001b[39m width} \u001b[39m# {'interval': 2 * width, 'snapshot': 1 * width, 'adjtree': 0 * width, 'tvg': -1 * width,'networkx': -2 * width}\u001b[39;00m\n",
      "\u001b[0;31mNameError\u001b[0m: name 'plt' is not defined"
     ]
    }
   ],
   "source": [
    "\n",
    "data_sets = ['tgbl-wiki',  'tgbl-review']\n",
    "# path_time_results = {'tglib': {\n",
    "#     'tgbl-wiki': 0.13,\n",
    "#     'tgbl-review': 57.66,\n",
    "#     },\n",
    "#     'dynetx': {\n",
    "#     'tgbl-wiki': 166.12,\n",
    "#     'tgbl-review': 9.79,\n",
    "#     }\n",
    "# }\n",
    "memory_results = path_time_results\n",
    "structs = ['tglib', 'dynetx']\n",
    "datasets = data_sets\n",
    "\n",
    "# for struct in structs:\n",
    "#     for dataset_name in datasets:\n",
    "#         memory_results.setdefault(struct, {})[dataset_name] = pickle.load(open(f'memory_results_{struct}_{dataset_name}.pkl', 'rb'))\n",
    "\n",
    "fig, ax = plt.subplots()\n",
    "width = 0.15\n",
    "offset = {'tglib': -0.5 * width, 'dynetx': 0.5* width} # {'interval': 2 * width, 'snapshot': 1 * width, 'adjtree': 0 * width, 'tvg': -1 * width,'networkx': -2 * width}\n",
    "color = {'tglib': (0.65, 0.3, 0.3), 'dynetx': (0, 0.75, 0)}  # {'interval': (0.65, 0.3, 0.3), 'snapshot': (0, 0.75, 0), 'networkx': (0.8, 0.8, 0.8), 'adjtree': (0, 0, .75), 'tvg': (1, 1, 0)}\n",
    "labels = {'tglib': 'tglib', 'dynetx': 'dynetx'} # {'interval': 'IntervalGraph', 'snapshot': 'SnapshotGraph', 'networkx': 'NetworkX', 'adjtree': 'AdjTree', 'tvg': 'TVG'}\n",
    "label_location = np.arange(len(datasets))\n",
    "\n",
    "for struct in structs:\n",
    "    nums = [memory_results[struct][d] for d in memory_results[struct]]\n",
    "    ax.bar(label_location + offset[struct], nums, width, label=labels[struct], color=color[struct])\n",
    "\n",
    "# ax.set_title('Memory')\n",
    "ax.set_xticks(label_location)\n",
    "ax.set_xticklabels(datasets)\n",
    "ax.set_yscale('log')\n",
    "ax.set_ylabel('Time (s)')\n",
    "fig.tight_layout()\n",
    "fig.set_figheight(4)\n",
    "fig.set_figwidth(6)\n",
    "plt.tight_layout(pad=0.2)\n",
    "plt.legend()\n",
    "fig.savefig('load time.eps', format='eps')\n",
    "plt.show()"
   ]
  },
  {
   "cell_type": "code",
   "execution_count": null,
   "metadata": {},
   "outputs": [],
   "source": [
    "# cc\n",
    "# "
   ]
  }
 ],
 "metadata": {
  "kernelspec": {
   "display_name": "Python 3",
   "language": "python",
   "name": "python3"
  },
  "language_info": {
   "codemirror_mode": {
    "name": "ipython",
    "version": 3
   },
   "file_extension": ".py",
   "mimetype": "text/x-python",
   "name": "python",
   "nbconvert_exporter": "python",
   "pygments_lexer": "ipython3",
   "version": "3.8.10"
  }
 },
 "nbformat": 4,
 "nbformat_minor": 2
}
