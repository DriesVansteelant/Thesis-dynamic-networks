{
 "cells": [
  {
   "cell_type": "markdown",
   "metadata": {},
   "source": [
    "# Benchmark Dynamic network libraries\n",
    "\n",
    "tests on dynetx and tg lib"
   ]
  },
  {
   "cell_type": "markdown",
   "metadata": {},
   "source": [
    "## TGLIB\n"
   ]
  },
  {
   "cell_type": "code",
   "execution_count": 67,
   "metadata": {},
   "outputs": [],
   "source": [
    "# import pytglib as tgl  # tglib\n",
    "import scipy.stats as ss  # for Kendall's tau correlation\n",
    "from tqdm import tqdm\n",
    "import time\n",
    "import numpy as np\n",
    "import random\n",
    "# from benchmark_tglib import testname as btgl\n",
    "\n",
    "statsPath = \"./stats_TGLib.txt\"\n",
    "\n",
    "statsFile = open(statsPath, 'w')\n",
    "statsFile.write('')\n",
    "statsFile.close()\n",
    "\n",
    "statsFile = open(statsPath, 'a')\n",
    "\n",
    "statsFile.close()\n",
    "\n",
    "size_big = 1\n",
    "size_smol = 1\n",
    "\n",
    "wiki_path = \"../Code/Data/tgbl-wiki_edgelist_final.txt\"\n",
    "review_path = \"../Code/Data/tgbl-review_edgelist_final.txt\"\n",
    "\n",
    "load_time_results = {}\n",
    "load_time_results['dynetx'] = {}\n",
    "load_time_results['raphtory'] = {}\n",
    "\n",
    "stats_time_results = {}\n",
    "stats_time_results['dynetx'] = {}\n",
    "stats_time_results['raphtory'] = {}\n",
    "\n",
    "path_time_results = {}\n",
    "path_time_results['dynetx'] = {}\n",
    "path_time_results['raphtory'] = {}\n",
    "\n",
    "# stats_time_results"
   ]
  },
  {
   "cell_type": "code",
   "execution_count": 68,
   "metadata": {},
   "outputs": [],
   "source": [
    "# inPath = wiki_path\n",
    "# statsFile = open(statsPath, 'a')\n",
    "# # btgl.do_benchmark(inPath, statsPath, size_big)\n",
    "# pathsSize = size_big\n",
    "# statsFile.write(inPath)\n",
    "\n",
    "# start = time.time()\n",
    "# directed = True\n",
    "# g = tgl.load_ordered_edge_list(inPath, directed)\n",
    "# end = time.time()\n",
    "\n",
    "# print(f\"Time taken to read graph {end-start} seconds\")\n",
    "# statsFile.write(f\"Time taken to read graph {end-start} seconds \\n\")\n",
    "\n",
    "# start = time.time()\n",
    "# stats = tgl.get_statistics(g)\n",
    "# end = time.time()\n",
    "\n",
    "# statsFile.write(f\"Time taken to get stats {end-start} seconds\")\n",
    "# print(f\"Time taken to get stats {end-start} seconds \\n\")\n",
    "# statsFile.write(str(stats))\n",
    "# statsFile.write(\"\\n\")\n",
    "# print(stats)\n",
    "\n",
    "# start = time.time()\n",
    "\n",
    "# num_nodes = g.getNumberOfNodes()\n",
    "# nodes  = list(g.getNodeMap().keys())\n",
    "# incidents = tgl.to_incident_lists(g)\n",
    "\n",
    "# selected_from = np.random.choice(nodes, size=pathsSize)\n",
    "# selected_to = np.random.choice(nodes, size=pathsSize)\n",
    "\n",
    "# paths = {}\n",
    "# for fro in tqdm(selected_from):\n",
    "#     for to in (selected_to):\n",
    "#         temp = tgl.minimum_transition_time_path(incidents, fro, to, g.getTimeInterval())\n",
    "#         paths[(fro, to)] = temp\n",
    "\n",
    "\n",
    "# end = time.time()\n",
    "# print(f\"Time taken to get shortest paths {end-start} seconds\")\n",
    "# statsFile.write(f\"Time taken to get shortest paths {end-start} seconds\\n\")\n",
    "# print(str(paths))\n",
    "# statsFile.write(str(paths))\n",
    " \n",
    "# start = time.time()\n",
    "# cc = (tgl.temporal_clustering_coefficient(incidents, g.getTimeInterval()))\n",
    "\n",
    "# end = time.time()\n",
    "# print(f\"Time taken to get clustering coefficient {end-start} seconds\")\n",
    "# statsFile.write(f\"Time taken to get clustering coefficient {end-start} seconds\\n\")\n",
    "\n",
    "# statsFile.write(\"\\n\")\n",
    "# statsFile.write(\"\\n\")\n",
    "# statsFile.close()"
   ]
  },
  {
   "cell_type": "code",
   "execution_count": 69,
   "metadata": {},
   "outputs": [],
   "source": [
    "# inPath = './datasets/tgbl-wiki_edgelist_final_with_intervals.txt'\n",
    "# statsFile = open(statsPath, 'a')\n",
    "# # btgl.do_benchmark(inPath, statsPath, size_smol)\n",
    "\n",
    "# pathsSize = size_smol\n",
    "# statsFile.write(inPath)\n",
    "\n",
    "# start = time.time()\n",
    "# directed = True\n",
    "# g = tgl.load_ordered_edge_list(inPath, directed)\n",
    "# end = time.time()\n",
    "\n",
    "# print(f\"Time taken to read graph {end-start} seconds\")\n",
    "# statsFile.write(f\"Time taken to read graph {end-start} seconds \\n\")\n",
    "\n",
    "# start = time.time()\n",
    "# stats = tgl.get_statistics(g)\n",
    "# end = time.time()\n",
    "\n",
    "# statsFile.write(f\"Time taken to get stats {end-start} seconds\")\n",
    "# print(f\"Time taken to get stats {end-start} seconds \\n\")\n",
    "# statsFile.write(str(stats))\n",
    "# statsFile.write(\"\\n\")\n",
    "# print(stats)\n",
    "\n",
    "# start = time.time()\n",
    "\n",
    "# num_nodes = g.getNumberOfNodes()\n",
    "# nodes  = list(g.getNodeMap().keys())\n",
    "# incidents = tgl.to_incident_lists(g)\n",
    "\n",
    "# selected_from = np.random.choice(nodes, size=pathsSize)\n",
    "# selected_to = np.random.choice(nodes, size=pathsSize)\n",
    "\n",
    "# paths = {}\n",
    "\n",
    "# for fro in tqdm(selected_from):\n",
    "#     for to in (selected_to):\n",
    "#         temp = tgl.minimum_transition_time_path(incidents, fro, to, g.getTimeInterval())\n",
    "#         paths[(fro, to)] = temp\n",
    "\n",
    "# end = time.time()\n",
    "# print(f\"Time taken to get shortest paths {end-start} seconds\")\n",
    "# statsFile.write(f\"Time taken to get shortest paths {end-start} seconds\\n\")\n",
    "\n",
    "# start = time.time()\n",
    "# cc = (tgl.temporal_clustering_coefficient(incidents, g.getTimeInterval()))\n",
    "\n",
    "# end = time.time()\n",
    "# print(f\"Time taken to get clustering coefficient {end-start} seconds\")\n",
    "# statsFile.write(f\"Time taken to get clustering coefficient {end-start} seconds\\n\")\n",
    "\n",
    "# statsFile.write(\"\\n\")\n",
    "# statsFile.write(\"\\n\")\n",
    "# statsFile.close()"
   ]
  },
  {
   "cell_type": "code",
   "execution_count": 70,
   "metadata": {},
   "outputs": [],
   "source": [
    "# inPath = './datasets/tgbl-review_edgelist_final.txt'\n",
    "# statsFile = open(statsPath, 'a')\n",
    "# # btgl.do_benchmark(inPath, statsPath, size_big)\n",
    "\n",
    "# pathsSize = size_big\n",
    "\n",
    "\n",
    "# start = time.time()\n",
    "# directed = True\n",
    "# g = tgl.load_ordered_edge_list(inPath, directed)\n",
    "# end = time.time()\n",
    "\n",
    "# print(f\"Time taken to read graph {end-start} seconds\")\n",
    "# statsFile.write(f\"Time taken to read graph {end-start} seconds \\n\")\n",
    "\n",
    "# start = time.time()\n",
    "# stats = tgl.get_statistics(g)\n",
    "# end = time.time()\n",
    "\n",
    "# statsFile.write(f\"Time taken to get stats {end-start} seconds\")\n",
    "# print(f\"Time taken to get stats {end-start} seconds \\n\")\n",
    "# statsFile.write(str(stats))\n",
    "# statsFile.write(\"\\n\")\n",
    "# print(stats)\n",
    "\n",
    "# start = time.time()\n",
    "\n",
    "# num_nodes = g.getNumberOfNodes()\n",
    "# nodes  = list(g.getNodeMap().keys())\n",
    "# incidents = tgl.to_incident_lists(g)\n",
    "\n",
    "# selected_from = np.random.choice(nodes, size=pathsSize)\n",
    "# selected_to = np.random.choice(nodes, size=pathsSize) #nodes\n",
    "\n",
    "# paths = {}\n",
    "# for fro in tqdm(selected_from):\n",
    "#     for to in (selected_to):\n",
    "#         temp = tgl.minimum_transition_time_path(incidents, fro, to, g.getTimeInterval())\n",
    "#         paths[(fro, to)] = temp\n",
    "\n",
    "\n",
    "# end = time.time()\n",
    "# print(f\"Time taken to get shortest paths {end-start} seconds\")\n",
    "# statsFile.write(f\"Time taken to get shortest paths {end-start} seconds\\n\")\n",
    "\n",
    "# start = time.time()\n",
    "# cc = (tgl.temporal_clustering_coefficient(incidents, g.getTimeInterval()))\n",
    "\n",
    "# end = time.time()\n",
    "# print(f\"Time taken to get clustering coefficient {end-start} seconds\")\n",
    "# statsFile.write(f\"Time taken to get clustering coefficient {end-start} seconds\\n\")\n",
    "\n",
    "# statsFile.write(\"\\n\")\n",
    "# statsFile.write(\"\\n\")\n",
    "# statsFile.close()"
   ]
  },
  {
   "cell_type": "code",
   "execution_count": 71,
   "metadata": {},
   "outputs": [],
   "source": [
    "# # inPath = './datasets/tgbl-review_edgelist_final_with_intervals.txt'\n",
    "# # btgl.do_benchmark(inPath, statsPath, size_smol)\n",
    "\n",
    "# pathsSize = size_smol\n",
    "\n",
    "# statsFile = open(statsPath, 'a')\n",
    "\n",
    "# start = time.time()\n",
    "# directed = True\n",
    "# g = tgl.load_ordered_edge_list(inPath, directed)\n",
    "# end = time.time()\n",
    "\n",
    "# print(f\"Time taken to read graph {end-start} seconds\")\n",
    "# statsFile.write(f\"Time taken to read graph {end-start} seconds \\n\")\n",
    "\n",
    "# start = time.time()\n",
    "# stats = tgl.get_statistics(g)\n",
    "# end = time.time()\n",
    "\n",
    "# statsFile.write(f\"Time taken to get stats {end-start} seconds\")\n",
    "# print(f\"Time taken to get stats {end-start} seconds \\n\")\n",
    "# statsFile.write(str(stats))\n",
    "# statsFile.write(\"\\n\")\n",
    "# print(stats)\n",
    "\n",
    "# start = time.time()\n",
    "\n",
    "# num_nodes = g.getNumberOfNodes()\n",
    "# nodes  = list(g.getNodeMap().keys())\n",
    "# incidents = tgl.to_incident_lists(g)\n",
    "\n",
    "# selected_from = np.random.choice(nodes, size=pathsSize)\n",
    "# selected_to = np.random.choice(nodes, size=pathsSize)\n",
    "\n",
    "# paths = {}\n",
    "# for fro in tqdm(selected_from):\n",
    "#     for to in (selected_to):\n",
    "#         temp = tgl.minimum_transition_time_path(incidents, fro, to, g.getTimeInterval())\n",
    "#         paths[(fro, to)] = temp\n",
    "\n",
    "\n",
    "# end = time.time()\n",
    "# print(f\"Time taken to get shortest paths {end-start} seconds\")\n",
    "# statsFile.write(f\"Time taken to get shortest paths {end-start} seconds\\n\")\n",
    "\n",
    "# start = time.time()\n",
    "# cc = (tgl.temporal_clustering_coefficient(incidents, g.getTimeInterval()))\n",
    "\n",
    "# end = time.time()\n",
    "# print(f\"Time taken to get clustering coefficient {end-start} seconds\")\n",
    "# statsFile.write(f\"Time taken to get clustering coefficient {end-start} seconds\\n\")\n",
    "\n",
    "\n",
    "# statsFile.write(\"\\n\")\n",
    "# statsFile.write(\"\\n\")\n",
    "# statsFile.close()"
   ]
  },
  {
   "cell_type": "markdown",
   "metadata": {},
   "source": [
    "## DynetX"
   ]
  },
  {
   "cell_type": "code",
   "execution_count": 72,
   "metadata": {},
   "outputs": [],
   "source": [
    "from tqdm import tqdm\n",
    "import numpy as np\n",
    "\n",
    "import dynetx.dynetx as dn\n",
    "import dynetx.dynetx.algorithms as al\n",
    "import time\n",
    "import functools \n",
    "from  benchmark_DyNetX import BenchmarkDyNetX as bdyn\n",
    "\n",
    "statsPath = \"./stats_DyNetX.txt\"\n",
    "\n",
    "statsFile = open(statsPath, 'w')\n",
    "statsFile.write('')\n",
    "statsFile.close()\n",
    "\n",
    "statsFile = open(statsPath, 'a')\n",
    "\n",
    "statsFile.close()\n",
    "\n"
   ]
  },
  {
   "cell_type": "code",
   "execution_count": 73,
   "metadata": {},
   "outputs": [
    {
     "name": "stdout",
     "output_type": "stream",
     "text": [
      "Time taken to read graph 1.2580370903015137 seconds\n",
      "Time taken to get stats 0.05096602439880371 seconds\n",
      "===========stats===========\n",
      "num_Nodes:  8227\n",
      "num_edges:  18257\n",
      "number of interactions:  2633\n",
      "number of timestamps:  152757\n",
      "min. timestamps:  0\n",
      "max. timestamps:  2678373\n",
      "min in degree:  0\n",
      "max in degree:  256\n",
      "min out degree:  1\n",
      "max out degree:  454\n",
      "===========================\n"
     ]
    },
    {
     "name": "stderr",
     "output_type": "stream",
     "text": [
      "100%|██████████| 1/1 [00:00<00:00,  1.19it/s]"
     ]
    },
    {
     "name": "stdout",
     "output_type": "stream",
     "text": [
      "Time taken to get and annotate 410 paths 0.8479995727539062 seconds or 0:0:0.8479995727539062\n"
     ]
    },
    {
     "name": "stderr",
     "output_type": "stream",
     "text": [
      "\n"
     ]
    }
   ],
   "source": [
    "res = bdyn.do_benchmark(wiki_path, size_big)\n",
    "load_time_results ['dynetx']['wiki'] = 0 if not \"loadTime\" in res.keys() else  res[\"loadTime\"]\n",
    "stats_time_results ['dynetx']['wiki'] = 0 if not \"stats\" in res.keys() else  res[\"stats\"]\n",
    "path_time_results ['dynetx']['wiki'] = 0 if not \"paths\" in res.keys() else  res[\"paths\"]\n",
    "# load_time_results ['dynetx']['wiki'] = res[\"loadTime\"]\n",
    "# load_time_results ['dynetx']['wiki'] = res[\"loadTime\"]"
   ]
  },
  {
   "cell_type": "code",
   "execution_count": 74,
   "metadata": {},
   "outputs": [],
   "source": [
    "# inPath = './datasets/tgbl-wiki_edgelist_final_with_intervals.txt'\n",
    "# bdyn.do_benchmark(inPath, size_smol)"
   ]
  },
  {
   "cell_type": "code",
   "execution_count": 75,
   "metadata": {},
   "outputs": [
    {
     "name": "stdout",
     "output_type": "stream",
     "text": [
      "Time taken to read graph 58.22408366203308 seconds\n",
      "Time taken to get stats 8.822923421859741 seconds\n",
      "===========stats===========\n",
      "num_Nodes:  352637\n",
      "num_edges:  4730223\n",
      "number of interactions:  1804961\n",
      "number of timestamps:  6865\n",
      "min. timestamps:  929232000\n",
      "max. timestamps:  1538611200\n",
      "min in degree:  0\n",
      "max in degree:  6082\n",
      "min out degree:  0\n",
      "max out degree:  592\n",
      "===========================\n"
     ]
    },
    {
     "name": "stderr",
     "output_type": "stream",
     "text": [
      "100%|██████████| 1/1 [00:00<00:00, 11.49it/s]\n"
     ]
    },
    {
     "name": "stdout",
     "output_type": "stream",
     "text": [
      "Time taken to get and annotate 17630 paths 0.24399709701538086 seconds or 0:0:0.24399709701538086\n"
     ]
    }
   ],
   "source": [
    "res = bdyn.do_benchmark(review_path, size_big)\n",
    "load_time_results ['dynetx']['review'] = 0 if not \"loadTime\" in res.keys() else  res[\"loadTime\"]\n",
    "stats_time_results ['dynetx']['review'] = 0 if not \"stats\" in res.keys() else  res[\"stats\"]\n",
    "path_time_results ['dynetx']['review'] = 0 if not \"paths\" in res.keys() else  res[\"paths\"]"
   ]
  },
  {
   "cell_type": "code",
   "execution_count": 76,
   "metadata": {},
   "outputs": [],
   "source": [
    "# inPath = './datasets/tgbl-review_edgelist_final_with_intervals.txt'\n",
    "# bdyn.do_benchmark(inPath, size_smol)"
   ]
  },
  {
   "cell_type": "markdown",
   "metadata": {},
   "source": [
    "## Raphtory\n"
   ]
  },
  {
   "cell_type": "code",
   "execution_count": 77,
   "metadata": {},
   "outputs": [],
   "source": [
    "from benchmark_raphtory import BenchmarkRaphtory  as br"
   ]
  },
  {
   "cell_type": "code",
   "execution_count": 78,
   "metadata": {},
   "outputs": [
    {
     "name": "stdout",
     "output_type": "stream",
     "text": [
      "Time to read pandas from file: 0.09\n"
     ]
    },
    {
     "data": {
      "application/vnd.jupyter.widget-view+json": {
       "model_id": "b1ba8cc50c9b477283c67e9c40fa4577",
       "version_major": 2,
       "version_minor": 0
      },
      "text/plain": [
       "HBox(children=(HTML(value=''), IntProgress(value=0, max=157474), HTML(value='')))"
      ]
     },
     "metadata": {},
     "output_type": "display_data"
    },
    {
     "name": "stdout",
     "output_type": "stream",
     "text": [
      "Time to load graph from pandas: 0.23\n",
      "num_nodes: 8227\n",
      "num_edges: 18257\n",
      "min_in_deg: 0\n",
      "max_in_deg: 256\n",
      "min_out_deg: 1\n",
      "max_out_deg: 454\n",
      "min_ts: 0\n",
      "max_ts: 2678374\n",
      "Time to get stats: 0.004006385803222656\n",
      "Time to get clustering coefficient: 0.13199424743652344\n",
      "Time to get Pagerank: 0.1329638957977295\n"
     ]
    }
   ],
   "source": [
    "res = br.do_benchmark(wiki_path)\n",
    "load_time_results ['raphtory']['wiki'] = 0 if not \"loadTime\" in res.keys() else res[\"loadTime\"]\n",
    "stats_time_results ['raphtory']['wiki'] = 0 if not \"stats\" in res.keys() else res[\"stats\"]\n",
    "path_time_results ['raphtory']['wiki'] = 0 if not \"paths\" in res.keys() else res[\"paths\"]"
   ]
  },
  {
   "cell_type": "code",
   "execution_count": null,
   "metadata": {},
   "outputs": [],
   "source": []
  },
  {
   "cell_type": "code",
   "execution_count": 79,
   "metadata": {},
   "outputs": [
    {
     "name": "stdout",
     "output_type": "stream",
     "text": [
      "Time to read pandas from file: 2.04\n"
     ]
    },
    {
     "data": {
      "application/vnd.jupyter.widget-view+json": {
       "model_id": "b06ef42e6f1446aa9554877e5c665aa7",
       "version_major": 2,
       "version_minor": 0
      },
      "text/plain": [
       "HBox(children=(HTML(value=''), IntProgress(value=0, max=4873540), HTML(value='')))"
      ]
     },
     "metadata": {},
     "output_type": "display_data"
    },
    {
     "name": "stdout",
     "output_type": "stream",
     "text": [
      "Time to load graph from pandas: 16.02\n",
      "num_nodes: 352637\n",
      "num_edges: 4730223\n",
      "min_in_deg: 0\n",
      "max_in_deg: 6082\n",
      "min_out_deg: 0\n",
      "max_out_deg: 592\n",
      "min_ts: 929232000\n",
      "max_ts: 1538611201\n",
      "Time to get stats: 0.18304061889648438\n",
      "Time to get clustering coefficient: 6.510315418243408\n",
      "Time to get Pagerank: 0.5730369091033936\n"
     ]
    }
   ],
   "source": [
    "res = br.do_benchmark(review_path)\n",
    "load_time_results ['raphtory']['review'] = 0 if not \"loadTime\" in res.keys() else  res[\"loadTime\"]\n",
    "stats_time_results ['raphtory']['review'] = 0 if not \"stats\" in res.keys() else  res[\"stats\"]\n",
    "path_time_results ['raphtory']['review'] = 0 if not \"paths\" in res.keys() else  res[\"paths\"]"
   ]
  },
  {
   "cell_type": "code",
   "execution_count": 80,
   "metadata": {},
   "outputs": [
    {
     "name": "stdout",
     "output_type": "stream",
     "text": [
      "{'dynetx': {'review': 58.22408366203308, 'wiki': 1.2580370903015137},\n",
      " 'raphtory': {'review': 18.064963579177856, 'wiki': 0.3170335292816162}}\n",
      "{'dynetx': {'review': 8.822923421859741, 'wiki': 0.05096602439880371},\n",
      " 'raphtory': {'review': 0.18304061889648438, 'wiki': 0.004006385803222656}}\n",
      "{'dynetx': {'review': 0, 'wiki': 0}, 'raphtory': {'review': 0, 'wiki': 0}}\n"
     ]
    }
   ],
   "source": [
    "import pprint\n",
    "\n",
    "# Prints the nicely formatted dictionary\n",
    "pprint.pprint(load_time_results)\n",
    "pprint.pprint(stats_time_results)\n",
    "pprint.pprint(path_time_results)\n"
   ]
  },
  {
   "cell_type": "code",
   "execution_count": 81,
   "metadata": {},
   "outputs": [],
   "source": [
    "# results \n",
    "from math import sqrt\n",
    "import matplotlib.pylab as plt\n",
    "import numpy as np\n",
    "\n",
    "data_sets = ['tgbl-wiki',  'tgbl-review','tglib']\n",
    "# dynetX_load_times = [1.62,43.29,63.29,0]\n",
    "# dynetX_get_stats_times = [0.05, 0.21, 4.52,0]\n",
    "\n",
    "# tglib_load_times = [0.22, 0.17, 7.45, 7.49]\n",
    "# tglib_det_stats_times = [0.07,0.11,4.39,4.55]\n",
    "\n"
   ]
  },
  {
   "cell_type": "code",
   "execution_count": 88,
   "metadata": {},
   "outputs": [
    {
     "name": "stdout",
     "output_type": "stream",
     "text": [
      "{'dynetx': {'review': 58.22408366203308, 'wiki': 1.2580370903015137},\n",
      " 'raphtory': {'review': 18.064963579177856, 'wiki': 0.3170335292816162},\n",
      " 'tglib': {'review': 7.45, 'wiki': 0.05}}\n"
     ]
    },
    {
     "name": "stderr",
     "output_type": "stream",
     "text": [
      "The PostScript backend does not support transparency; partially transparent artists will be rendered opaque.\n"
     ]
    },
    {
     "data": {
      "image/png": "[encoded data removed]",
      "text/plain": [
       "<Figure size 600x400 with 1 Axes>"
      ]
     },
     "metadata": {},
     "output_type": "display_data"
    }
   ],
   "source": [
    "load_time_results['tglib'] = {\n",
    "    'wiki': 0.05,\n",
    "    # 'tgbl-wiki_with_intervals': 0.17,\n",
    "    'review': 7.45,\n",
    "    # 'tgbl-review_with_intervals': 7.49\n",
    "    }\n",
    "#     'dynetx': {\n",
    "#     'tgbl-wiki': 1.62,\n",
    "#     'tgbl-wiki_with_intervals': 43.29,\n",
    "#     'tgbl-review': 63.29,\n",
    "#     'tgbl-review_with_intervals': 0\n",
    "#     }\n",
    "# }\n",
    "\n",
    "pprint.pprint(load_time_results)\n",
    "memory_results = load_time_results\n",
    "structs = ['raphtory', 'dynetx', 'tglib']\n",
    "datasets = data_sets\n",
    "\n",
    "# for struct in structs:\n",
    "#     for dataset_name in datasets:\n",
    "#         memory_results.setdefault(struct, {})[dataset_name] = pickle.load(open(f'memory_results_{struct}_{dataset_name}.pkl', 'rb'))\n",
    "\n",
    "fig, ax = plt.subplots()\n",
    "width = 0.15\n",
    "offset = {'raphtory': -width, 'dynetx': 0, 'tglib': width} # {'interval': 2 * width, 'snapshot': 1 * width, 'adjtree': 0 * width, 'tvg': -1 * width,'networkx': -2 * width}\n",
    "color = {'raphtory': (0.65, 0.3, 0.3), 'dynetx': (0, 0.75, 0), 'tglib': (0.8, 0.8, 0.8)}  # {'interval': (0.65, 0.3, 0.3), 'snapshot': (0, 0.75, 0), 'networkx': (0.8, 0.8, 0.8), 'adjtree': (0, 0, .75), 'tvg': (1, 1, 0)}\n",
    "labels = {'raphtory': 'raphtory', 'dynetx': 'dynetx', 'tglib':'tglib'} # {'interval': 'IntervalGraph', 'snapshot': 'SnapshotGraph', 'networkx': 'NetworkX', 'adjtree': 'AdjTree', 'tvg': 'TVG'}\n",
    "label_location = np.arange(len(datasets))\n",
    "\n",
    "for struct in structs:\n",
    "    nums = [memory_results[struct][d] for d in memory_results[struct]]\n",
    "    ax.bar(label_location + offset[struct], nums, width, label=labels[struct], color=color[struct])\n",
    "\n",
    "# ax.set_title('Memory')\n",
    "ax.set_xticks(label_location)\n",
    "ax.set_xticklabels(datasets)\n",
    "ax.set_yscale('log')\n",
    "ax.set_ylabel('Time (s)')\n",
    "fig.tight_layout()\n",
    "fig.set_figheight(4)\n",
    "fig.set_figwidth(6)\n",
    "plt.tight_layout(pad=0.2)\n",
    "plt.legend()\n",
    "fig.savefig('load time.eps', format='eps')\n",
    "plt.show()"
   ]
  },
  {
   "cell_type": "code",
   "execution_count": 89,
   "metadata": {},
   "outputs": [
    {
     "name": "stderr",
     "output_type": "stream",
     "text": [
      "The PostScript backend does not support transparency; partially transparent artists will be rendered opaque.\n"
     ]
    },
    {
     "data": {
      "image/png": "[encoded data removed]",
      "text/plain": [
       "<Figure size 600x400 with 1 Axes>"
      ]
     },
     "metadata": {},
     "output_type": "display_data"
    }
   ],
   "source": [
    "dynetX_get_stats_times = [0.05, 0.21, 4.52,0]\n",
    "tglib_det_stats_times = [0.07,0.11,4.39,4.55]\n",
    "\n",
    "stats_time_results['tglib'] = {\n",
    "    'wiki': 0.07,\n",
    "    # 'tgbl-wiki_with_intervals': 0.11,\n",
    "    'review': 4.39,\n",
    "    # 'tgbl-review_with_intervals': 4.55\n",
    "    }\n",
    "#     'dynetx': {\n",
    "#     'tgbl-wiki': 0.05,\n",
    "#     'tgbl-wiki_with_intervals': 0.21,\n",
    "#     'tgbl-review': 4.52,\n",
    "#     'tgbl-review_with_intervals': 0\n",
    "#     }\n",
    "# }\n",
    "memory_results = stats_time_results\n",
    "structs = ['raphtory', 'dynetx', 'tglib']\n",
    "datasets = data_sets\n",
    "\n",
    "# for struct in structs:\n",
    "#     for dataset_name in datasets:\n",
    "#         memory_results.setdefault(struct, {})[dataset_name] = pickle.load(open(f'memory_results_{struct}_{dataset_name}.pkl', 'rb'))\n",
    "\n",
    "fig, ax = plt.subplots()\n",
    "width = 0.15\n",
    "offset = {'raphtory': -width, 'dynetx': 0, 'tglib': width} # {'interval': 2 * width, 'snapshot': 1 * width, 'adjtree': 0 * width, 'tvg': -1 * width,'networkx': -2 * width}\n",
    "color = {'raphtory': (0.65, 0.3, 0.3), 'dynetx': (0, 0.75, 0), 'tglib': (0.8, 0.8, 0.8)}  # {'interval': (0.65, 0.3, 0.3), 'snapshot': (0, 0.75, 0), 'networkx': (0.8, 0.8, 0.8), 'adjtree': (0, 0, .75), 'tvg': (1, 1, 0)}\n",
    "labels = {'raphtory': 'raphtory', 'dynetx': 'dynetx', 'tglib':'tglib'} # {'interval': 'IntervalGraph', 'snapshot': 'SnapshotGraph', 'networkx': 'NetworkX', 'adjtree': 'AdjTree', 'tvg': 'TVG'}\n",
    "label_location = np.arange(len(datasets))\n",
    "\n",
    "for struct in structs:\n",
    "    nums = [memory_results[struct][d] for d in memory_results[struct]]\n",
    "    ax.bar(label_location + offset[struct], nums, width, label=labels[struct], color=color[struct])\n",
    "\n",
    "# ax.set_title('Memory')\n",
    "ax.set_xticks(label_location)\n",
    "ax.set_xticklabels(datasets)\n",
    "ax.set_yscale('log')\n",
    "ax.set_ylabel('Time (s)')\n",
    "fig.tight_layout()\n",
    "fig.set_figheight(4)\n",
    "fig.set_figwidth(6)\n",
    "plt.tight_layout(pad=0.2)\n",
    "plt.legend()\n",
    "fig.savefig('stats time.eps', format='eps')\n",
    "plt.show()"
   ]
  },
  {
   "cell_type": "code",
   "execution_count": null,
   "metadata": {},
   "outputs": [
    {
     "name": "stderr",
     "output_type": "stream",
     "text": [
      "The PostScript backend does not support transparency; partially transparent artists will be rendered opaque.\n"
     ]
    },
    {
     "data": {
      "image/png": "[encoded data removed]",
      "text/plain": [
       "<Figure size 600x400 with 1 Axes>"
      ]
     },
     "metadata": {},
     "output_type": "display_data"
    }
   ],
   "source": [
    "\n",
    "data_sets = ['tgbl-wiki',  'tgbl-review']\n",
    "# path_time_results = {'tglib': {\n",
    "#     'tgbl-wiki': 0.13,\n",
    "#     'tgbl-review': 57.66,\n",
    "#     },\n",
    "#     'dynetx': {\n",
    "#     'tgbl-wiki': 166.12,\n",
    "#     'tgbl-review': 9.79,\n",
    "#     }\n",
    "# }\n",
    "memory_results = path_time_results\n",
    "structs = ['tglib', 'dynetx']\n",
    "datasets = data_sets\n",
    "\n",
    "# for struct in structs:\n",
    "#     for dataset_name in datasets:\n",
    "#         memory_results.setdefault(struct, {})[dataset_name] = pickle.load(open(f'memory_results_{struct}_{dataset_name}.pkl', 'rb'))\n",
    "\n",
    "fig, ax = plt.subplots()\n",
    "width = 0.15\n",
    "offset = {'tglib': -0.5 * width, 'dynetx': 0.5* width} # {'interval': 2 * width, 'snapshot': 1 * width, 'adjtree': 0 * width, 'tvg': -1 * width,'networkx': -2 * width}\n",
    "color = {'tglib': (0.65, 0.3, 0.3), 'dynetx': (0, 0.75, 0)}  # {'interval': (0.65, 0.3, 0.3), 'snapshot': (0, 0.75, 0), 'networkx': (0.8, 0.8, 0.8), 'adjtree': (0, 0, .75), 'tvg': (1, 1, 0)}\n",
    "labels = {'tglib': 'tglib', 'dynetx': 'dynetx'} # {'interval': 'IntervalGraph', 'snapshot': 'SnapshotGraph', 'networkx': 'NetworkX', 'adjtree': 'AdjTree', 'tvg': 'TVG'}\n",
    "label_location = np.arange(len(datasets))\n",
    "\n",
    "for struct in structs:\n",
    "    nums = [memory_results[struct][d] for d in memory_results[struct]]\n",
    "    ax.bar(label_location + offset[struct], nums, width, label=labels[struct], color=color[struct])\n",
    "\n",
    "# ax.set_title('Memory')\n",
    "ax.set_xticks(label_location)\n",
    "ax.set_xticklabels(datasets)\n",
    "ax.set_yscale('log')\n",
    "ax.set_ylabel('Time (s)')\n",
    "fig.tight_layout()\n",
    "fig.set_figheight(4)\n",
    "fig.set_figwidth(6)\n",
    "plt.tight_layout(pad=0.2)\n",
    "plt.legend()\n",
    "fig.savefig('load time.eps', format='eps')\n",
    "plt.show()"
   ]
  }
 ],
 "metadata": {
  "kernelspec": {
   "display_name": "Python 3",
   "language": "python",
   "name": "python3"
  },
  "language_info": {
   "codemirror_mode": {
    "name": "ipython",
    "version": 3
   },
   "file_extension": ".py",
   "mimetype": "text/x-python",
   "name": "python",
   "nbconvert_exporter": "python",
   "pygments_lexer": "ipython3",
   "version": "3.10.4"
  }
 },
 "nbformat": 4,
 "nbformat_minor": 2
}
