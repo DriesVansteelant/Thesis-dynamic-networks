{
 "cells": [
  {
   "cell_type": "markdown",
   "metadata": {},
   "source": [
    "# Benchmark Dynamic network libraries\n",
    "\n",
    "tests on dynetx and tg lib"
   ]
  },
  {
   "cell_type": "markdown",
   "metadata": {},
   "source": [
    "## TGLIB\n"
   ]
  },
  {
   "cell_type": "code",
   "execution_count": 11,
   "metadata": {},
   "outputs": [],
   "source": [
    "# import tglib as tgl  # tglib\n",
    "import scipy.stats as ss  # for Kendall's tau correlation\n",
    "from tqdm import tqdm\n",
    "import time\n",
    "import numpy as np\n",
    "import random\n",
    "# from benchmark_tglib import testname as btgl\n",
    "\n",
    "statsPath = \"./stats_TGLib.txt\"\n",
    "\n",
    "statsFile = open(statsPath, 'w')\n",
    "statsFile.write('')\n",
    "statsFile.close()\n",
    "\n",
    "statsFile = open(statsPath, 'a')\n",
    "\n",
    "statsFile.close()\n",
    "\n",
    "size_big = 10\n",
    "size_smol = 10\n",
    "\n",
    "wiki_path = \"../Code/Data/tgbl-wiki_edgelist_final.txt\"\n",
    "review_path = \"../Code/Data/tgbl-review_edgelist_final.txt\"\n",
    "wiki_path_h = \"../Code/Data/tgbl-wiki_edgelist_final_h.txt\"\n",
    "review_path_h = \"../Code/Data/tgbl-review_edgelist_final_h.txt\"\n",
    "\n",
    "load_time_results = {}\n",
    "load_time_results['tglib'] = {}\n",
    "load_time_results['dynetx'] = {}\n",
    "load_time_results['raphtory'] = {}\n",
    "\n",
    "stats_time_results = {}\n",
    "stats_time_results['tglib'] = {}\n",
    "stats_time_results['dynetx'] = {}\n",
    "stats_time_results['raphtory'] = {}\n",
    "\n",
    "path_time_results = {}\n",
    "path_time_results['tglib'] = {}\n",
    "path_time_results['dynetx'] = {}\n",
    "path_time_results['raphtory'] = {}\n",
    "\n",
    "cc_time = {}\n",
    "cc_time['tglib'] = {}\n",
    "cc_time['dynetx'] = {}\n",
    "cc_time['raphtory'] = {}\n",
    "\n",
    "pr_time = {}\n",
    "pr_time['tglib'] = {}\n",
    "pr_time['dynetx'] = {}\n",
    "pr_time['raphtory'] = {}\n",
    "\n",
    "# stats_time_results"
   ]
  },
  {
   "cell_type": "code",
   "execution_count": 12,
   "metadata": {},
   "outputs": [
    {
     "name": "stdout",
     "output_type": "stream",
     "text": [
      "Time taken to read graph 0.30699849128723145 seconds\n",
      "Time taken to get stats 0.07800936698913574 seconds \n",
      "\n",
      "number of nodes: 8227\n",
      "number of edges: 157474\n",
      "number of static edges: 18257\n",
      "number of time stamps: 152757\n",
      "number of transition times: 1\n",
      "min. time stamp: 0\n",
      "max. time stamp: 2678373\n",
      "min. transition time: 1\n",
      "max. transition time: 1\n",
      "min. temporal in-degree: -1\n",
      "max. temporal in-degree: 1937\n",
      "min. temporal out-degree: -1\n",
      "max. temporal out-degree: 1603\n"
     ]
    },
    {
     "name": "stderr",
     "output_type": "stream",
     "text": [
      "100%|██████████| 12/12 [00:00<00:00, 29.19it/s]"
     ]
    },
    {
     "name": "stdout",
     "output_type": "stream",
     "text": [
      "Time taken to get shortest paths 0.4159975051879883 seconds\n",
      "Time to get clustering coefficient: 0.018965721130371094\n",
      "Time to get Pagerank: 0.001997232437133789\n",
      "{'loadTime': 0.30699849128723145, 'stats': 0.07800936698913574, 'paths': 0.4159975051879883, 'clusteringCoefficient': 0.018965721130371094, 'pagerank': 0.001997232437133789}\n"
     ]
    },
    {
     "name": "stderr",
     "output_type": "stream",
     "text": [
      "\n"
     ]
    }
   ],
   "source": [
    "from benchmark_tglib import testname\n",
    "\n",
    "res = testname.do_benchmark(wiki_path, size_smol)\n",
    "print(res)\n",
    "\n",
    "\n",
    "load_time_results ['tglib']['wiki'] = 0 if not \"loadTime\" in res.keys() else  res[\"loadTime\"]\n",
    "stats_time_results ['tglib']['wiki'] = 0 if not \"stats\" in res.keys() else  res[\"stats\"]\n",
    "path_time_results ['tglib']['wiki'] = 0 if not \"paths\" in res.keys() else  res[\"paths\"]\n",
    "cc_time['tglib']['wiki'] = 0  if not \"clusteringCoefficient\" in res.keys() else  res[\"clusteringCoefficient\"]\n",
    "pr_time['tglib']['wiki'] = 0  if not \"pagerank\" in res.keys() else  res[\"pagerank\"]"
   ]
  },
  {
   "cell_type": "code",
   "execution_count": 13,
   "metadata": {},
   "outputs": [],
   "source": [
    "# inPath = './datasets/tgbl-wiki_edgelist_final_with_intervals.txt'\n"
   ]
  },
  {
   "cell_type": "code",
   "execution_count": 14,
   "metadata": {},
   "outputs": [
    {
     "name": "stdout",
     "output_type": "stream",
     "text": [
      "Time taken to read graph 11.281999349594116 seconds\n",
      "Time taken to get stats 5.112888336181641 seconds \n",
      "\n",
      "number of nodes: 352637\n",
      "number of edges: 4873540\n",
      "number of static edges: 4730223\n",
      "number of time stamps: 6865\n",
      "number of transition times: 1\n",
      "min. time stamp: 0\n",
      "max. time stamp: 609379200\n",
      "min. transition time: 1\n",
      "max. transition time: 1\n",
      "min. temporal in-degree: -1\n",
      "max. temporal in-degree: 6129\n",
      "min. temporal out-degree: -1\n",
      "max. temporal out-degree: 627\n",
      "Time to get clustering coefficient: 8.867968559265137\n",
      "Time to get Pagerank: 0.11800551414489746\n"
     ]
    }
   ],
   "source": [
    "inPath = './datasets/tgbl-review_edgelist_final.txt'\n",
    "\n",
    "res = testname.do_benchmark(review_path, size_smol, do_paths=False)\n",
    "# print(res)\n",
    "\n",
    "load_time_results ['tglib']['review'] = 0  if not \"loadTime\" in res.keys() else  res[\"loadTime\"]\n",
    "stats_time_results ['tglib']['review'] = 0  if not \"stats\" in res.keys() else  res[\"stats\"]\n",
    "path_time_results ['tglib']['review'] = 0  if not \"paths\" in res.keys() else  res[\"paths\"]\n",
    "cc_time['tglib']['review'] = 0  if not \"clusteringCoefficient\" in res.keys() else  res[\"clusteringCoefficient\"]\n",
    "pr_time['tglib']['review'] = 0  if not \"pagerank\" in res.keys() else  res[\"pagerank\"]"
   ]
  },
  {
   "cell_type": "code",
   "execution_count": 15,
   "metadata": {},
   "outputs": [],
   "source": [
    "# inPath = './datasets/tgbl-review_edgelist_final_with_intervals.txt'\n"
   ]
  },
  {
   "cell_type": "markdown",
   "metadata": {},
   "source": [
    "## DynetX"
   ]
  },
  {
   "cell_type": "code",
   "execution_count": 16,
   "metadata": {},
   "outputs": [],
   "source": [
    "from tqdm import tqdm\n",
    "import numpy as np\n",
    "\n",
    "import dynetx.dynetx as dn\n",
    "import dynetx.dynetx.algorithms as al\n",
    "import time\n",
    "import functools \n",
    "from  benchmark_DyNetX import BenchmarkDyNetX as bdyn\n",
    "\n",
    "statsPath = \"./stats_DyNetX.txt\"\n",
    "\n",
    "statsFile = open(statsPath, 'w')\n",
    "statsFile.write('')\n",
    "statsFile.close()\n",
    "\n",
    "statsFile = open(statsPath, 'a')\n",
    "\n",
    "statsFile.close()\n",
    "\n"
   ]
  },
  {
   "cell_type": "code",
   "execution_count": 17,
   "metadata": {},
   "outputs": [
    {
     "name": "stdout",
     "output_type": "stream",
     "text": [
      "Time taken to read graph 1.9980194568634033 seconds\n",
      "Time taken to get stats 0.04395866394042969 seconds\n",
      "===========stats===========\n",
      "num_Nodes:  8227\n",
      "num_edges:  18257\n",
      "number of interactions:  2633\n",
      "number of timestamps:  152757\n",
      "min. timestamps:  0\n",
      "max. timestamps:  2678373\n",
      "min in degree:  0\n",
      "max in degree:  256\n",
      "min out degree:  1\n",
      "max out degree:  454\n",
      "===========================\n"
     ]
    },
    {
     "name": "stderr",
     "output_type": "stream",
     "text": [
      "100%|██████████| 12/12 [01:42<00:00,  8.57s/it]"
     ]
    },
    {
     "name": "stdout",
     "output_type": "stream",
     "text": [
      "Time taken to get and annotate 820 paths 102.84386682510376 seconds or 0:1:42.84386682510376\n"
     ]
    },
    {
     "name": "stderr",
     "output_type": "stream",
     "text": [
      "\n"
     ]
    }
   ],
   "source": [
    "res = bdyn.do_benchmark(wiki_path, size_big)\n",
    "load_time_results ['dynetx']['wiki'] = 0 if not \"loadTime\" in res.keys() else  res[\"loadTime\"]\n",
    "stats_time_results ['dynetx']['wiki'] = 0 if not \"stats\" in res.keys() else  res[\"stats\"]\n",
    "path_time_results ['dynetx']['wiki'] = 0 if not \"paths\" in res.keys() else  res[\"paths\"]\n",
    "cc_time['dynetx']['wiki'] = 0  if not \"clusteringCoefficient\" in res.keys() else  res[\"clusteringCoefficient\"]\n",
    "pr_time['dynetx']['wiki'] = 0  if not \"pagerank\" in res.keys() else  res[\"pagerank\"]"
   ]
  },
  {
   "cell_type": "code",
   "execution_count": 18,
   "metadata": {},
   "outputs": [],
   "source": [
    "# inPath = './datasets/tgbl-wiki_edgelist_final_with_intervals.txt'\n",
    "# bdyn.do_benchmark(inPath, size_smol)"
   ]
  },
  {
   "cell_type": "code",
   "execution_count": 19,
   "metadata": {},
   "outputs": [
    {
     "name": "stdout",
     "output_type": "stream",
     "text": [
      "Time taken to read graph 57.8440375328064 seconds\n",
      "Time taken to get stats 8.388999462127686 seconds\n",
      "===========stats===========\n",
      "num_Nodes:  352637\n",
      "num_edges:  4730223\n",
      "number of interactions:  1804961\n",
      "number of timestamps:  6865\n",
      "min. timestamps:  0\n",
      "max. timestamps:  609379200\n",
      "min in degree:  0\n",
      "max in degree:  6082\n",
      "min out degree:  0\n",
      "max out degree:  592\n",
      "===========================\n"
     ]
    },
    {
     "name": "stderr",
     "output_type": "stream",
     "text": [
      "100%|██████████| 12/12 [00:36<00:00,  3.02s/it]\n"
     ]
    },
    {
     "name": "stdout",
     "output_type": "stream",
     "text": [
      "Time taken to get and annotate 35260 paths 36.4128520488739 seconds or 0:0:36.4128520488739\n"
     ]
    }
   ],
   "source": [
    "res = bdyn.do_benchmark(review_path, size_big)\n",
    "load_time_results ['dynetx']['review'] = 0 if not \"loadTime\" in res.keys() else  res[\"loadTime\"]\n",
    "stats_time_results ['dynetx']['review'] = 0 if not \"stats\" in res.keys() else  res[\"stats\"]\n",
    "path_time_results ['dynetx']['review'] = 0 if not \"paths\" in res.keys() else  res[\"paths\"]\n",
    "cc_time['dynetx']['review'] = 0  if not \"clusteringCoefficient\" in res.keys() else  res[\"clusteringCoefficient\"]\n",
    "pr_time['dynetx']['review'] = 0  if not \"pagerank\" in res.keys() else  res[\"pagerank\"]"
   ]
  },
  {
   "cell_type": "code",
   "execution_count": 20,
   "metadata": {},
   "outputs": [],
   "source": [
    "# inPath = './datasets/tgbl-review_edgelist_final_with_intervals.txt'\n",
    "# bdyn.do_benchmark(inPath, size_smol)"
   ]
  },
  {
   "cell_type": "markdown",
   "metadata": {},
   "source": [
    "## Raphtory\n"
   ]
  },
  {
   "cell_type": "code",
   "execution_count": 21,
   "metadata": {},
   "outputs": [],
   "source": [
    "from benchmark_raphtory import BenchmarkRaphtory  as br"
   ]
  },
  {
   "cell_type": "code",
   "execution_count": 22,
   "metadata": {},
   "outputs": [
    {
     "name": "stdout",
     "output_type": "stream",
     "text": [
      "Time to read pandas from file: 0.09\n"
     ]
    },
    {
     "data": {
      "application/vnd.jupyter.widget-view+json": {
       "model_id": "e112ef75b3cc4e498484c74f0c77ed91",
       "version_major": 2,
       "version_minor": 0
      },
      "text/plain": [
       "HBox(children=(HTML(value=''), IntProgress(value=0, max=157474), HTML(value='')))"
      ]
     },
     "metadata": {},
     "output_type": "display_data"
    },
    {
     "name": "stdout",
     "output_type": "stream",
     "text": [
      "Time to load graph from pandas: 0.2\n",
      "num_nodes: 8227\n",
      "num_edges: 18257\n",
      "min_in_deg: 0\n",
      "max_in_deg: 256\n",
      "min_out_deg: 1\n",
      "max_out_deg: 454\n",
      "min_ts: 0\n",
      "max_ts: 2678374\n",
      "Time to get stats: 0.0039975643157958984\n",
      "Time to get clustering coefficient: 0.1480395793914795\n",
      "Time to get Pagerank: 0.13496065139770508\n"
     ]
    }
   ],
   "source": [
    "res = br.do_benchmark(wiki_path_h)\n",
    "load_time_results ['raphtory']['wiki'] = 0 if not \"loadTime\" in res.keys() else res[\"loadTime\"]\n",
    "stats_time_results ['raphtory']['wiki'] = 0 if not \"stats\" in res.keys() else res[\"stats\"]\n",
    "path_time_results ['raphtory']['wiki'] = 0 if not \"paths\" in res.keys() else res[\"paths\"]\n",
    "cc_time['raphtory']['wiki'] = 0  if not \"clusteringCoefficient\" in res.keys() else  res[\"clusteringCoefficient\"]\n",
    "pr_time['raphtory']['wiki'] = 0  if not \"pagerank\" in res.keys() else  res[\"pagerank\"]"
   ]
  },
  {
   "cell_type": "code",
   "execution_count": null,
   "metadata": {},
   "outputs": [],
   "source": []
  },
  {
   "cell_type": "code",
   "execution_count": 23,
   "metadata": {},
   "outputs": [
    {
     "name": "stdout",
     "output_type": "stream",
     "text": [
      "Time to read pandas from file: 1.92\n"
     ]
    },
    {
     "data": {
      "application/vnd.jupyter.widget-view+json": {
       "model_id": "70e58c87dab84bd98bc52143e04bbfc9",
       "version_major": 2,
       "version_minor": 0
      },
      "text/plain": [
       "HBox(children=(HTML(value=''), IntProgress(value=0, max=4873540), HTML(value='')))"
      ]
     },
     "metadata": {},
     "output_type": "display_data"
    },
    {
     "name": "stdout",
     "output_type": "stream",
     "text": [
      "Time to load graph from pandas: 14.95\n",
      "num_nodes: 352637\n",
      "num_edges: 4730223\n",
      "min_in_deg: 0\n",
      "max_in_deg: 6082\n",
      "min_out_deg: 0\n",
      "max_out_deg: 592\n",
      "min_ts: 0\n",
      "max_ts: 609379201\n",
      "Time to get stats: 0.17503690719604492\n",
      "Time to get clustering coefficient: 5.549962282180786\n",
      "Time to get Pagerank: 0.4109995365142822\n"
     ]
    }
   ],
   "source": [
    "res = br.do_benchmark(review_path_h)\n",
    "load_time_results ['raphtory']['review'] = 0 if not \"loadTime\" in res.keys() else  res[\"loadTime\"]\n",
    "stats_time_results ['raphtory']['review'] = 0 if not \"stats\" in res.keys() else  res[\"stats\"]\n",
    "path_time_results ['raphtory']['review'] = 0 if not \"paths\" in res.keys() else  res[\"paths\"]\n",
    "cc_time['raphtory']['review'] = 0  if not \"clusteringCoefficient\" in res.keys() else  res[\"clusteringCoefficient\"]\n",
    "pr_time['raphtory']['review'] = 0  if not \"pagerank\" in res.keys() else  res[\"pagerank\"]"
   ]
  },
  {
   "cell_type": "code",
   "execution_count": 24,
   "metadata": {},
   "outputs": [
    {
     "name": "stdout",
     "output_type": "stream",
     "text": [
      "'load time: '\n",
      "{'dynetx': {'review': 57.8440375328064, 'wiki': 1.9980194568634033},\n",
      " 'raphtory': {'review': 16.869977951049805, 'wiki': 0.2910003662109375},\n",
      " 'tglib': {'review': 11.281999349594116, 'wiki': 0.30699849128723145}}\n",
      "'stats: '\n",
      "{'dynetx': {'review': 8.388999462127686, 'wiki': 0.04395866394042969},\n",
      " 'raphtory': {'review': 0.17503690719604492, 'wiki': 0.0039975643157958984},\n",
      " 'tglib': {'review': 5.112888336181641, 'wiki': 0.07800936698913574}}\n",
      "'paths: '\n",
      "{'dynetx': {'review': 36.4128520488739, 'wiki': 102.84386682510376},\n",
      " 'raphtory': {'review': 0, 'wiki': 0},\n",
      " 'tglib': {'review': 0, 'wiki': 0.4159975051879883}}\n",
      "'cc: '\n",
      "{'dynetx': {'review': 0, 'wiki': 0},\n",
      " 'raphtory': {'review': 5.549962282180786, 'wiki': 0.1480395793914795},\n",
      " 'tglib': {'review': 8.867968559265137, 'wiki': 0.018965721130371094}}\n",
      "'pr: '\n",
      "{'dynetx': {'review': 0, 'wiki': 0},\n",
      " 'raphtory': {'review': 0.4109995365142822, 'wiki': 0.13496065139770508},\n",
      " 'tglib': {'review': 0.11800551414489746, 'wiki': 0.001997232437133789}}\n"
     ]
    }
   ],
   "source": [
    "import pprint\n",
    "\n",
    "# Prints the nicely formatted dictionary\n",
    "pprint.pprint(\"load time: \")\n",
    "pprint.pprint( load_time_results)\n",
    "pprint.pprint(\"stats: \" )\n",
    "pprint.pprint(stats_time_results)\n",
    "pprint.pprint(\"paths: \")\n",
    "pprint.pprint( path_time_results)\n",
    "pprint.pprint(\"cc: \")\n",
    "pprint.pprint( cc_time)\n",
    "pprint.pprint(\"pr: \")\n",
    "pprint.pprint( pr_time)\n"
   ]
  },
  {
   "cell_type": "code",
   "execution_count": 25,
   "metadata": {},
   "outputs": [],
   "source": [
    "# results \n",
    "from math import sqrt\n",
    "import matplotlib.pylab as plt\n",
    "import numpy as np\n",
    "\n",
    "data_sets = ['tgbl-wiki',  'tgbl-review']\n"
   ]
  },
  {
   "cell_type": "code",
   "execution_count": 26,
   "metadata": {},
   "outputs": [
    {
     "name": "stdout",
     "output_type": "stream",
     "text": [
      "{'dynetx': {'review': 57.8440375328064, 'wiki': 1.9980194568634033},\n",
      " 'raphtory': {'review': 16.869977951049805, 'wiki': 0.2910003662109375},\n",
      " 'tglib': {'review': 11.281999349594116, 'wiki': 0.30699849128723145}}\n"
     ]
    },
    {
     "name": "stderr",
     "output_type": "stream",
     "text": [
      "The PostScript backend does not support transparency; partially transparent artists will be rendered opaque.\n"
     ]
    },
    {
     "data": {
      "image/png": "[encoded data removed]",
      "text/plain": [
       "<Figure size 600x400 with 1 Axes>"
      ]
     },
     "metadata": {},
     "output_type": "display_data"
    }
   ],
   "source": [
    "\n",
    "pprint.pprint(load_time_results)\n",
    "memory_results = load_time_results\n",
    "structs = ['raphtory', 'dynetx', 'tglib']\n",
    "datasets = data_sets\n",
    "\n",
    "fig, ax = plt.subplots()\n",
    "width = 0.15\n",
    "offset = {'raphtory': -width, 'dynetx': 0, 'tglib': width} # {'interval': 2 * width, 'snapshot': 1 * width, 'adjtree': 0 * width, 'tvg': -1 * width,'networkx': -2 * width}\n",
    "color = {'raphtory': (0.65, 0.3, 0.3), 'dynetx': (0, 0.75, 0), 'tglib': (0.8, 0.8, 0.8)}  # {'interval': (0.65, 0.3, 0.3), 'snapshot': (0, 0.75, 0), 'networkx': (0.8, 0.8, 0.8), 'adjtree': (0, 0, .75), 'tvg': (1, 1, 0)}\n",
    "labels = {'raphtory': 'Raphtory', 'dynetx': 'DyNetX', 'tglib':'TGLib'} # {'interval': 'IntervalGraph', 'snapshot': 'SnapshotGraph', 'networkx': 'NetworkX', 'adjtree': 'AdjTree', 'tvg': 'TVG'}\n",
    "label_location = np.arange(len(datasets))\n",
    "\n",
    "for struct in structs:\n",
    "    nums = [memory_results[struct][d] for d in memory_results[struct]]\n",
    "    ax.bar(label_location + offset[struct], nums, width, label=labels[struct], color=color[struct])\n",
    "\n",
    "ax.set_title('Load Time')\n",
    "ax.set_xticks(label_location)\n",
    "ax.set_xticklabels(datasets)\n",
    "ax.set_yscale('log')\n",
    "ax.set_ylabel('Time (s)')\n",
    "fig.tight_layout()\n",
    "fig.set_figheight(4)\n",
    "fig.set_figwidth(6)\n",
    "plt.tight_layout(pad=0.2)\n",
    "plt.legend()\n",
    "fig.savefig('load time.eps', format='eps')\n",
    "plt.show()"
   ]
  },
  {
   "cell_type": "code",
   "execution_count": 27,
   "metadata": {},
   "outputs": [
    {
     "name": "stderr",
     "output_type": "stream",
     "text": [
      "The PostScript backend does not support transparency; partially transparent artists will be rendered opaque.\n"
     ]
    },
    {
     "data": {
      "image/png": "[encoded data removed]",
      "text/plain": [
       "<Figure size 600x400 with 1 Axes>"
      ]
     },
     "metadata": {},
     "output_type": "display_data"
    }
   ],
   "source": [
    "\n",
    "memory_results = stats_time_results\n",
    "structs = ['raphtory', 'dynetx', 'tglib']\n",
    "datasets = data_sets\n",
    "\n",
    "fig, ax = plt.subplots()\n",
    "width = 0.15\n",
    "offset = {'raphtory': -width, 'dynetx': 0, 'tglib': width} # {'interval': 2 * width, 'snapshot': 1 * width, 'adjtree': 0 * width, 'tvg': -1 * width,'networkx': -2 * width}\n",
    "color = {'raphtory': (0.65, 0.3, 0.3), 'dynetx': (0, 0.75, 0), 'tglib': (0.8, 0.8, 0.8)}  # {'interval': (0.65, 0.3, 0.3), 'snapshot': (0, 0.75, 0), 'networkx': (0.8, 0.8, 0.8), 'adjtree': (0, 0, .75), 'tvg': (1, 1, 0)}\n",
    "labels = {'raphtory': 'Raphtory', 'dynetx': 'DyNetX', 'tglib':'TGLib'} # {'interval': 'IntervalGraph', 'snapshot': 'SnapshotGraph', 'networkx': 'NetworkX', 'adjtree': 'AdjTree', 'tvg': 'TVG'}\n",
    "label_location = np.arange(len(datasets))\n",
    "\n",
    "for struct in structs:\n",
    "    nums = [memory_results[struct][d] for d in memory_results[struct]]\n",
    "    ax.bar(label_location + offset[struct], nums, width, label=labels[struct], color=color[struct])\n",
    "\n",
    "ax.set_title('Get Statistcs')\n",
    "ax.set_xticks(label_location)\n",
    "ax.set_xticklabels(datasets)\n",
    "ax.set_yscale('log')\n",
    "ax.set_ylabel('Time (s)')\n",
    "fig.tight_layout()\n",
    "fig.set_figheight(4)\n",
    "fig.set_figwidth(6)\n",
    "plt.tight_layout(pad=0.2)\n",
    "plt.legend()\n",
    "fig.savefig('stats time.eps', format='eps')\n",
    "plt.show()"
   ]
  },
  {
   "cell_type": "code",
   "execution_count": 28,
   "metadata": {},
   "outputs": [
    {
     "name": "stderr",
     "output_type": "stream",
     "text": [
      "The PostScript backend does not support transparency; partially transparent artists will be rendered opaque.\n"
     ]
    },
    {
     "data": {
      "image/png": "[encoded data removed]",
      "text/plain": [
       "<Figure size 600x400 with 1 Axes>"
      ]
     },
     "metadata": {},
     "output_type": "display_data"
    }
   ],
   "source": [
    "memory_results = path_time_results\n",
    "structs = ['tglib', 'dynetx']\n",
    "datasets = [\"tgbl-wiki\", \"tgbl-review\"] #data_sets\n",
    "\n",
    "fig, ax = plt.subplots()\n",
    "width = 0.15\n",
    "offset = {'tglib': -0.5 * width, 'dynetx': 0.5* width} # {'interval': 2 * width, 'snapshot': 1 * width, 'adjtree': 0 * width, 'tvg': -1 * width,'networkx': -2 * width}\n",
    "color = {'tglib': (0.65, 0.3, 0.3), 'dynetx': (0, 0.75, 0)}  # {'interval': (0.65, 0.3, 0.3), 'snapshot': (0, 0.75, 0), 'networkx': (0.8, 0.8, 0.8), 'adjtree': (0, 0, .75), 'tvg': (1, 1, 0)}\n",
    "labels = {'raphtory': 'Raphtory', 'dynetx': 'DyNetX', 'tglib':'TGLib'} # {'interval': 'IntervalGraph', 'snapshot': 'SnapshotGraph', 'networkx': 'NetworkX', 'adjtree': 'AdjTree', 'tvg': 'TVG'}\n",
    "label_location = np.arange(len(datasets))\n",
    "\n",
    "for struct in structs:\n",
    "    nums = [memory_results[struct][d] for d in memory_results[struct]]\n",
    "    ax.bar(label_location + offset[struct], nums, width, label=labels[struct], color=color[struct])\n",
    "\n",
    "ax.set_title('Shortest Paths')\n",
    "ax.set_xticks(label_location)\n",
    "ax.set_xticklabels(datasets)\n",
    "ax.set_yscale('log')\n",
    "ax.set_ylabel('Time (s)')\n",
    "fig.tight_layout()\n",
    "fig.set_figheight(4)\n",
    "fig.set_figwidth(6)\n",
    "plt.tight_layout(pad=0.2)\n",
    "plt.legend()\n",
    "fig.savefig('load time.eps', format='eps')\n",
    "plt.show()"
   ]
  },
  {
   "cell_type": "code",
   "execution_count": 29,
   "metadata": {},
   "outputs": [
    {
     "name": "stderr",
     "output_type": "stream",
     "text": [
      "The PostScript backend does not support transparency; partially transparent artists will be rendered opaque.\n"
     ]
    },
    {
     "data": {
      "image/png": "[encoded data removed]",
      "text/plain": [
       "<Figure size 600x400 with 1 Axes>"
      ]
     },
     "metadata": {},
     "output_type": "display_data"
    }
   ],
   "source": [
    "\n",
    "memory_results = cc_time\n",
    "structs = ['raphtory', 'tglib']\n",
    "datasets = data_sets\n",
    "\n",
    "fig, ax = plt.subplots()\n",
    "width = 0.15\n",
    "offset = {'raphtory': -0.5*width, 'tglib': 0.5*width} # {'interval': 2 * width, 'snapshot': 1 * width, 'adjtree': 0 * width, 'tvg': -1 * width,'networkx': -2 * width}\n",
    "color = {'raphtory': (0.65, 0.3, 0.3), 'dynetx': (0, 0.75, 0), 'tglib': (0.8, 0.8, 0.8)}  # {'interval': (0.65, 0.3, 0.3), 'snapshot': (0, 0.75, 0), 'networkx': (0.8, 0.8, 0.8), 'adjtree': (0, 0, .75), 'tvg': (1, 1, 0)}\n",
    "labels = {'raphtory': 'Raphtory', 'dynetx': 'DyNetX', 'tglib':'TGLib'} # {'interval': 'IntervalGraph', 'snapshot': 'SnapshotGraph', 'networkx': 'NetworkX', 'adjtree': 'AdjTree', 'tvg': 'TVG'}\n",
    "label_location = np.arange(len(datasets))\n",
    "\n",
    "for struct in structs:\n",
    "    nums = [memory_results[struct][d] for d in memory_results[struct]]\n",
    "    ax.bar(label_location + offset[struct], nums, width, label=labels[struct], color=color[struct])\n",
    "\n",
    "ax.set_title('Clustering Coefficient')\n",
    "ax.set_xticks(label_location)\n",
    "ax.set_xticklabels(datasets)\n",
    "ax.set_yscale('log')\n",
    "ax.set_ylabel('Time (s)')\n",
    "fig.tight_layout()\n",
    "fig.set_figheight(4)\n",
    "fig.set_figwidth(6)\n",
    "plt.tight_layout(pad=0.2)\n",
    "plt.legend()\n",
    "fig.savefig('stats time.eps', format='eps')\n",
    "plt.show()"
   ]
  },
  {
   "cell_type": "code",
   "execution_count": 30,
   "metadata": {},
   "outputs": [
    {
     "name": "stderr",
     "output_type": "stream",
     "text": [
      "The PostScript backend does not support transparency; partially transparent artists will be rendered opaque.\n"
     ]
    },
    {
     "data": {
      "image/png": "[encoded data removed]",
      "text/plain": [
       "<Figure size 600x400 with 1 Axes>"
      ]
     },
     "metadata": {},
     "output_type": "display_data"
    }
   ],
   "source": [
    "memory_results = pr_time\n",
    "structs = ['raphtory', 'tglib']\n",
    "datasets = data_sets\n",
    "\n",
    "fig, ax = plt.subplots()\n",
    "width = 0.15\n",
    "offset = {'raphtory': -0.5*width, 'tglib': 0.5*width} # {'interval': 2 * width, 'snapshot': 1 * width, 'adjtree': 0 * width, 'tvg': -1 * width,'networkx': -2 * width}\n",
    "color = {'raphtory': (0.65, 0.3, 0.3), 'dynetx': (0, 0.75, 0), 'tglib': (0.8, 0.8, 0.8)}  # {'interval': (0.65, 0.3, 0.3), 'snapshot': (0, 0.75, 0), 'networkx': (0.8, 0.8, 0.8), 'adjtree': (0, 0, .75), 'tvg': (1, 1, 0)}\n",
    "labels = {'raphtory': 'Raphtory', 'dynetx': 'DyNetX', 'tglib':'TGLib'} # {'interval': 'IntervalGraph', 'snapshot': 'SnapshotGraph', 'networkx': 'NetworkX', 'adjtree': 'AdjTree', 'tvg': 'TVG'}\n",
    "label_location = np.arange(len(datasets))\n",
    "\n",
    "for struct in structs:\n",
    "    nums = [memory_results[struct][d] for d in memory_results[struct]]\n",
    "    ax.bar(label_location + offset[struct], nums, width, label=labels[struct], color=color[struct])\n",
    "\n",
    "ax.set_title('Pagerank')\n",
    "ax.set_xticks(label_location)\n",
    "ax.set_xticklabels(datasets)\n",
    "ax.set_yscale('log')\n",
    "ax.set_ylabel('Time (s)')\n",
    "fig.tight_layout()\n",
    "fig.set_figheight(4)\n",
    "fig.set_figwidth(6)\n",
    "plt.tight_layout(pad=0.2)\n",
    "plt.legend()\n",
    "fig.savefig('stats time.eps', format='eps')\n",
    "plt.show()"
   ]
  }
 ],
 "metadata": {
  "kernelspec": {
   "display_name": "Python 3",
   "language": "python",
   "name": "python3"
  },
  "language_info": {
   "codemirror_mode": {
    "name": "ipython",
    "version": 3
   },
   "file_extension": ".py",
   "mimetype": "text/x-python",
   "name": "python",
   "nbconvert_exporter": "python",
   "pygments_lexer": "ipython3",
   "version": "3.10.6"
  }
 },
 "nbformat": 4,
 "nbformat_minor": 2
}
